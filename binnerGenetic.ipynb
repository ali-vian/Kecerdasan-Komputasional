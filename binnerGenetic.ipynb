{
 "cells": [
  {
   "cell_type": "code",
   "execution_count": 1,
   "id": "ab6308c0",
   "metadata": {},
   "outputs": [
    {
     "name": "stdout",
     "output_type": "stream",
     "text": [
      "0b11111\n"
     ]
    }
   ],
   "source": [
    "import numpy as np \n",
    "x = [5,-10,4,-20,0,11]\n",
    "print(bin(31))"
   ]
  },
  {
   "cell_type": "code",
   "execution_count": 2,
   "id": "1ab56863",
   "metadata": {},
   "outputs": [
    {
     "name": "stdout",
     "output_type": "stream",
     "text": [
      "test [-45, -45, -31, -295, 5, -171]\n",
      "-582\n",
      "[251 251 265   1 301 125]\n",
      "1194\n",
      "[0.21021776 0.21021776 0.22194305 0.00083752 0.2520938  0.10469012]\n"
     ]
    }
   ],
   "source": [
    "# y = -x**2-5x+5\n",
    "\n",
    "popoulasi = [\n",
    "             [1,0,0,1,0,1],\n",
    "             [0,0,1,0,1,0],\n",
    "             [1,0,0,1,0,0],\n",
    "             [0,1,0,1,0,0],\n",
    "             [1,0,0,0,0,0],\n",
    "             [1,0,1,0,1,1]]\n",
    "\n",
    "temp = []\n",
    "for i in x :\n",
    "    temp.append(-i**2-5*i+5)\n",
    "print('test',temp)\n",
    "sum(temp)\n",
    "\n",
    "temp = np.array(temp)\n",
    "print(sum(temp))\n",
    "temp = temp+296 #kerena negatif maka ditambah nilai terkecil dan (di tambah epsilon 1) agar probabilitas tidak 0\n",
    "print(temp)\n",
    "print(sum(temp))\n",
    "prob = temp/sum(temp)\n",
    "print(prob)"
   ]
  },
  {
   "cell_type": "code",
   "execution_count": 3,
   "id": "1120af79",
   "metadata": {},
   "outputs": [],
   "source": [
    "# setelah menentuakn ruang dan mendapatkan nilai dari percobaan\n",
    "# selanjutnya dilakukan crossover dengan menukar nilai berpasangan dengan index acak"
   ]
  },
  {
   "cell_type": "code",
   "execution_count": 4,
   "id": "68c37e4f",
   "metadata": {},
   "outputs": [],
   "source": [
    "# elitist strategy = menjaga kromosom yang memiliki nilai fitness tinggi"
   ]
  },
  {
   "cell_type": "markdown",
   "id": "1c58e0f2",
   "metadata": {},
   "source": [
    "## Code"
   ]
  },
  {
   "cell_type": "code",
   "execution_count": 5,
   "id": "9973d786",
   "metadata": {},
   "outputs": [
    {
     "data": {
      "text/plain": [
       "11"
      ]
     },
     "execution_count": 5,
     "metadata": {},
     "output_type": "execute_result"
    }
   ],
   "source": [
    "def convertToBin(num):\n",
    "    hsl = np.zeros(6,int)\n",
    "    if num >= 0 :\n",
    "        hsl[0] = 1\n",
    "    else:\n",
    "        num = num*-1 \n",
    "    i=-1\n",
    "    while num != 0:\n",
    "        hsl[i]=num%2\n",
    "        num //= 2\n",
    "        i-=1\n",
    "    return hsl\n",
    "    \n",
    "a = convertToBin(11)\n",
    "\n",
    "def convertToNum(biner):\n",
    "    hasil = 0\n",
    "    for i in range(-1,-6,-1):\n",
    "        hasil+=biner[i]*2**((i*-1)-1)\n",
    "    if biner[0] == 0 :\n",
    "        hasil= -hasil\n",
    "    return hasil\n",
    "        \n",
    "\n",
    "convertToNum(a)"
   ]
  },
  {
   "cell_type": "code",
   "execution_count": 6,
   "id": "731c9439",
   "metadata": {},
   "outputs": [
    {
     "name": "stdout",
     "output_type": "stream",
     "text": [
      "[[1 0 1 0 1 0]\n",
      " [1 0 0 1 0 0]\n",
      " [1 1 1 1 1 0]\n",
      " [1 1 1 0 0 1]\n",
      " [0 1 1 0 1 0]\n",
      " [1 0 0 0 1 0]]\n",
      "10\n",
      "4\n",
      "30\n",
      "25\n",
      "-26\n",
      "2\n"
     ]
    }
   ],
   "source": [
    "def generatePopulation(individu):\n",
    "    population = np.zeros([individu,6],dtype=int)\n",
    "    for i in range(individu):\n",
    "        population[i]=convertToBin(np.random.randint(-31,31))\n",
    "    return population\n",
    "pop = generatePopulation(6)\n",
    "print(pop)\n",
    "for i in pop:\n",
    "    print(convertToNum(i))"
   ]
  },
  {
   "cell_type": "code",
   "execution_count": 7,
   "id": "2363bee6",
   "metadata": {},
   "outputs": [
    {
     "name": "stdout",
     "output_type": "stream",
     "text": [
      "[-180  720 -148 1820   20 -288]\n"
     ]
    }
   ],
   "source": [
    "def fitnessFunc(x):\n",
    "    return 2*x**2-50*x+20\n",
    "\n",
    "def calculateFitness(population):\n",
    "    fitness = np.zeros(len(population),int)\n",
    "    for i in range(len(population)):\n",
    "        fitness[i] = fitnessFunc(convertToNum(population[i]))\n",
    "    return fitness\n",
    "\n",
    "popoulasi = [\n",
    "             [1,0,0,1,0,1],\n",
    "             [0,0,1,0,1,0],\n",
    "             [1,0,0,1,0,0],\n",
    "             [0,1,0,1,0,0],\n",
    "             [1,0,0,0,0,0],\n",
    "             [1,0,1,0,1,1]]\n",
    "\n",
    "fitness = calculateFitness(popoulasi)\n",
    "\n",
    "print(fitness)"
   ]
  },
  {
   "cell_type": "code",
   "execution_count": 8,
   "id": "79ce07cb",
   "metadata": {},
   "outputs": [
    {
     "name": "stdout",
     "output_type": "stream",
     "text": [
      "totalFitness =  3678\n",
      "probabilitas [2.96356716e-02 2.74333877e-01 3.83360522e-02 5.73409462e-01\n",
      " 8.40130506e-02 2.71886895e-04]\n",
      "komulatif [0.         0.02963567 0.30396955 0.3423056  0.91571506 0.99972811\n",
      " 1.        ]\n",
      "[3 3 1 1 3 3]\n"
     ]
    }
   ],
   "source": [
    "def selection(fitness):\n",
    "    \n",
    "    fitness = fitness+min(fitness)*-1+1 #kerena negatif maka ditambah nilai terkecil dan (di tambah epsilon 1) agar probabilitas tidak 0\n",
    "    totalFitness = np.sum(fitness)\n",
    "    print('totalFitness = ',totalFitness)\n",
    "    \n",
    "    probIndividu = fitness/totalFitness\n",
    "    print('probabilitas',probIndividu)\n",
    "    sizeIndividu = len(fitness)\n",
    "    komulatif = np.zeros(sizeIndividu+1)\n",
    "    \n",
    "    for i in range(sizeIndividu):\n",
    "        komulatif[i+1] = komulatif[i]+probIndividu[i]\n",
    "        \n",
    "    print('komulatif',komulatif)\n",
    "    \n",
    "    count = 0\n",
    "    newProb = np.zeros(sizeIndividu,int)\n",
    "    for j in range(sizeIndividu):\n",
    "        roulette = np.random.rand(1)\n",
    "        for i in range(sizeIndividu+1):\n",
    "            if roulette > komulatif[i] and roulette <= komulatif[i+1]:\n",
    "                newProb[count]=i\n",
    "        count += 1\n",
    "    return newProb\n",
    "    \n",
    "index = selection(fitness)\n",
    "print(index)"
   ]
  },
  {
   "cell_type": "code",
   "execution_count": null,
   "id": "b9f2241c",
   "metadata": {},
   "outputs": [],
   "source": []
  },
  {
   "cell_type": "code",
   "execution_count": 9,
   "id": "3423c926",
   "metadata": {},
   "outputs": [
    {
     "name": "stdout",
     "output_type": "stream",
     "text": [
      "[[1 0 1 0 1 0]\n",
      " [1 0 0 1 0 0]\n",
      " [1 1 1 1 1 0]\n",
      " [1 1 1 0 0 1]\n",
      " [0 1 1 0 1 0]\n",
      " [1 0 0 0 1 0]]\n",
      "New Populasi dari hasil seleksi:\n",
      " [[1 1 1 0 0 1]\n",
      " [1 1 1 0 0 1]\n",
      " [1 0 0 1 0 0]\n",
      " [1 0 0 1 0 0]\n",
      " [1 1 1 0 0 1]\n",
      " [1 1 1 0 0 1]]\n"
     ]
    }
   ],
   "source": [
    "def newPopulation(idx,population):\n",
    "    newP = np.zeros_like(population)\n",
    "    for i in range(len(idx)):\n",
    "        newP[i] = population[idx[i]]\n",
    "    return newP\n",
    "newPop = newPopulation(index,pop)\n",
    "print(pop)\n",
    "print(\"New Populasi dari hasil seleksi:\\n\",newPop)"
   ]
  },
  {
   "cell_type": "code",
   "execution_count": 10,
   "id": "df119742",
   "metadata": {},
   "outputs": [
    {
     "name": "stdout",
     "output_type": "stream",
     "text": [
      "[[1 1 1 0 0 1]\n",
      " [1 1 1 0 0 1]\n",
      " [1 0 0 1 0 0]\n",
      " [1 0 0 1 0 0]\n",
      " [1 1 1 0 0 1]\n",
      " [1 1 1 0 0 1]]\n",
      "3 0\n",
      "5 0\n",
      "2 3\n",
      "1 2\n",
      "1 1\n",
      "5 0\n",
      "Hasil Crossover :\n",
      " [[0 1 1 1 0 1]\n",
      " [1 0 0 1 1 1]\n",
      " [1 0 1 0 0 0]\n",
      " [1 0 0 1 0 0]\n",
      " [1 1 1 0 0 1]\n",
      " [1 0 0 1 1 1]]\n"
     ]
    }
   ],
   "source": [
    "# reverse/dibalik\n",
    "def crossover(population):\n",
    "    newP = population.copy()\n",
    "    (numOfIndividu,numOfBit) = population.shape\n",
    "    for i in range(numOfIndividu):\n",
    "        ind1,ind2 = np.random.randint(numOfBit),np.random.randint(numOfBit)\n",
    "        print(ind1,ind2)\n",
    "        if ind1 <= ind2 :\n",
    "            temp = ind2 \n",
    "            for j in range(ind1,ind2+1):\n",
    "                newP[i,j] = population[i,temp]\n",
    "                temp-=1\n",
    "        else:\n",
    "            temp = ind1\n",
    "            for j in range(ind2,ind1+1):\n",
    "                newP[i,j] = population[i,temp]\n",
    "                temp-=1\n",
    "    return newP\n",
    " \n",
    "print(newPop)\n",
    "populasi = crossover(newPop)\n",
    "print(\"Hasil Crossover :\\n\",populasi)"
   ]
  },
  {
   "cell_type": "code",
   "execution_count": 11,
   "id": "b0ac66be",
   "metadata": {},
   "outputs": [],
   "source": [
    "# import random\n",
    "\n",
    "# def crossover_sebagian_acak(kromosom1, kromosom2):\n",
    "#     panjang_kromosom = len(kromosom1)\n",
    "#     i = random.randint(0, panjang_kromosom - 2)\n",
    "#     j = random.randint(i + 1, panjang_kromosom - 1)\n",
    "#     anak1 = kromosom1[:i] + kromosom2[i:j] + kromosom1[j:]\n",
    "#     anak2 = kromosom2[:i] + kromosom1[i:j] + kromosom2[j:]\n",
    "#     return anak1, anak2\n",
    "\n",
    "# def crossover2(data):\n",
    "#     hasil = []\n",
    "#     for i in range(0,len(data),2):\n",
    "#         a, b = (crossover_sebagian_acak(data[i], data[i+1]))\n",
    "#         hasil.append(a)\n",
    "#         hasil.append(b)\n",
    "#     return hasil\n",
    "\n",
    "# populasi2 = crossover2(newPop)\n",
    "# print(\"Hasil Crossover :\\n\",populasi2)"
   ]
  },
  {
   "cell_type": "code",
   "execution_count": 12,
   "id": "e86aafec",
   "metadata": {},
   "outputs": [
    {
     "name": "stdout",
     "output_type": "stream",
     "text": [
      "[[0 1 1 1 0 1]\n",
      " [1 0 0 1 1 1]\n",
      " [1 0 1 0 0 0]\n",
      " [1 0 0 1 0 0]\n",
      " [1 1 1 0 0 1]\n",
      " [1 0 0 1 1 1]]\n",
      "3 5\n",
      "4 2\n",
      "2 0\n",
      "2 1\n",
      "0 1\n",
      "0 2\n",
      "Hasil Mutasi : \n",
      " [[0 1 1 1 0 1]\n",
      " [1 0 1 1 0 1]\n",
      " [1 0 1 0 0 0]\n",
      " [1 0 0 1 0 0]\n",
      " [1 1 1 0 0 1]\n",
      " [0 0 1 1 1 1]]\n"
     ]
    }
   ],
   "source": [
    "# digeser\n",
    "def mutation(population):\n",
    "    newP = population.copy()\n",
    "    (numOfIndividu,numOfBit) = population.shape\n",
    "    for i in range(numOfIndividu):\n",
    "        ind1,ind2 = np.random.randint(numOfBit),np.random.randint(numOfBit)\n",
    "        print(ind1,ind2)\n",
    "        newP[i,ind1],newP[i,ind2] = newP[i,ind2],newP[i,ind1]\n",
    "    return newP\n",
    "print(populasi)\n",
    "mutasi = mutation(populasi)\n",
    "print(\"Hasil Mutasi : \\n\",mutasi)"
   ]
  },
  {
   "cell_type": "code",
   "execution_count": 13,
   "id": "d996c16d",
   "metadata": {},
   "outputs": [
    {
     "name": "stdout",
     "output_type": "stream",
     "text": [
      "Inisialisasi Populasi :\n",
      " [[0 1 1 1 0 0]\n",
      " [1 0 1 1 1 0]\n",
      " [0 0 1 1 1 1]\n",
      " [1 1 1 1 0 1]\n",
      " [1 1 1 1 0 1]\n",
      " [0 0 1 0 1 0]\n",
      " [0 1 0 0 0 0]\n",
      " [1 1 0 1 0 1]]\n",
      "-28\n",
      "14\n",
      "-15\n",
      "29\n",
      "29\n",
      "-10\n",
      "-16\n",
      "21\n",
      "Generasi-0\n",
      "Fitness [2988 -288 1220  252  252  720 1332 -148]\n",
      "totalFitness =  8640\n",
      "probabilitas [3.79282407e-01 1.15740741e-04 1.74652778e-01 6.26157407e-02\n",
      " 6.26157407e-02 1.16782407e-01 1.87615741e-01 1.63194444e-02]\n",
      "komulatif [0.         0.37928241 0.37939815 0.55405093 0.61666667 0.67928241\n",
      " 0.79606481 0.98368056 1.        ]\n",
      "Indeks hasil populasi seleksi : [5 0 6 0 6 2 5 0]\n",
      "Individu Hasil Seleksi :\n",
      " [[0 0 1 0 1 0]\n",
      " [0 1 1 1 0 0]\n",
      " [0 1 0 0 0 0]\n",
      " [0 1 1 1 0 0]\n",
      " [0 1 0 0 0 0]\n",
      " [0 0 1 1 1 1]\n",
      " [0 0 1 0 1 0]\n",
      " [0 1 1 1 0 0]]\n",
      "2 4\n",
      "4 3\n",
      "0 0\n",
      "1 5\n",
      "4 2\n",
      "0 2\n",
      "0 4\n",
      "5 0\n",
      "Hasil crossover :\n",
      " [[0 0 1 0 1 0]\n",
      " [0 1 1 0 1 0]\n",
      " [0 1 0 0 0 0]\n",
      " [0 0 0 1 1 1]\n",
      " [0 1 0 0 0 0]\n",
      " [1 0 0 1 1 1]\n",
      " [1 0 1 0 0 0]\n",
      " [0 0 1 1 1 0]]\n",
      "1 0\n",
      "0 0\n",
      "1 5\n",
      "2 0\n",
      "2 0\n",
      "4 3\n",
      "0 3\n",
      "4 2\n",
      "Hasil mutasi :\n",
      " [[0 0 1 0 1 0]\n",
      " [0 1 1 0 1 0]\n",
      " [0 0 0 0 0 1]\n",
      " [0 0 0 1 1 1]\n",
      " [0 1 0 0 0 0]\n",
      " [1 0 0 1 1 1]\n",
      " [0 0 1 1 0 0]\n",
      " [0 0 1 1 1 0]]\n"
     ]
    },
    {
     "data": {
      "text/plain": [
       "array([[0, 0, 1, 0, 1, 0],\n",
       "       [0, 1, 1, 0, 1, 0],\n",
       "       [0, 0, 0, 0, 0, 1],\n",
       "       [0, 0, 0, 1, 1, 1],\n",
       "       [0, 1, 0, 0, 0, 0],\n",
       "       [1, 0, 0, 1, 1, 1],\n",
       "       [0, 0, 1, 1, 0, 0],\n",
       "       [0, 0, 1, 1, 1, 0]])"
      ]
     },
     "execution_count": 13,
     "metadata": {},
     "output_type": "execute_result"
    }
   ],
   "source": [
    "def geneticAlgoritm(numOfPopulation,generation):\n",
    "    population = generatePopulation(numOfPopulation)\n",
    "    \n",
    "    print(\"Inisialisasi Populasi :\\n\",population)\n",
    "    for i in population:\n",
    "        print(convertToNum(i))\n",
    "    \n",
    "    for i in range(generation):\n",
    "        print(f\"Generasi-{i}\")\n",
    "        nilaiFitness = calculateFitness(population)\n",
    "        print(\"Fitness\",nilaiFitness)\n",
    "        newInd = selection(nilaiFitness)\n",
    "        print(\"Indeks hasil populasi seleksi :\",newInd)\n",
    "        population = newPopulation(newInd,population)\n",
    "        print(\"Individu Hasil Seleksi :\\n\",population)\n",
    "        population = crossover(population)\n",
    "        print(\"Hasil crossover :\\n\",population)\n",
    "        population = mutation(population)\n",
    "        print(\"Hasil mutasi :\\n\",population)\n",
    "    return population\n",
    "    \n",
    "geneticAlgoritm(8,1)"
   ]
  },
  {
   "cell_type": "code",
   "execution_count": 14,
   "id": "e0830425",
   "metadata": {},
   "outputs": [
    {
     "name": "stdout",
     "output_type": "stream",
     "text": [
      "Inisialisasi Populasi :\n",
      " [[1 0 0 0 0 1]\n",
      " [1 1 0 1 1 1]\n",
      " [0 1 0 0 0 0]\n",
      " [0 1 0 1 1 0]\n",
      " [0 0 1 1 0 1]\n",
      " [0 0 1 1 0 0]]\n",
      "Generasi-0\n",
      "totalFitness =  5674\n",
      "probabilitas [7.93091294e-03 1.76242510e-04 2.47620726e-01 3.80860063e-01\n",
      " 1.90518153e-01 1.72893902e-01]\n",
      "komulatif [0.         0.00793091 0.00810716 0.25572788 0.63658795 0.8271061\n",
      " 1.        ]\n",
      "0 2\n",
      "1 1\n",
      "3 0\n",
      "3 0\n",
      "4 2\n",
      "4 0\n",
      "5 3\n",
      "1 4\n",
      "0 3\n",
      "1 4\n",
      "0 4\n",
      "0 3\n",
      "Populasi lama = \n",
      " [[1 0 0 0 0 1]\n",
      " [1 1 0 1 1 1]\n",
      " [0 1 0 0 0 0]\n",
      " [0 1 0 1 1 0]\n",
      " [0 0 1 1 0 1]\n",
      " [0 0 1 1 0 0]]\n",
      "Fitness lama = \n",
      " [ -28  -72 1332 2088 1008  908]\n",
      "Populasi baru = \n",
      " [[0 1 0 0 0 0]\n",
      " [0 0 0 0 1 0]\n",
      " [0 0 1 0 0 0]\n",
      " [0 0 1 0 0 0]\n",
      " [0 1 1 1 0 0]\n",
      " [1 1 0 1 0 0]]\n",
      "Fitness baru = \n",
      " [1332  128  548  548 2988 -180]\n",
      "Elitist = \n",
      " [[1 1 0 1 1 1]\n",
      " [1 0 0 0 0 1]\n",
      " [0 0 1 1 0 0]\n",
      " [1 1 0 1 0 0]\n",
      " [0 0 0 0 1 0]\n",
      " [0 0 1 0 0 0]]\n",
      "Generasi-1\n",
      "totalFitness =  2390\n",
      "probabilitas [4.56066946e-02 6.40167364e-02 4.55648536e-01 4.18410042e-04\n",
      " 1.29288703e-01 3.05020921e-01]\n",
      "komulatif [0.         0.04560669 0.10962343 0.56527197 0.56569038 0.69497908\n",
      " 1.        ]\n",
      "2 5\n",
      "5 1\n",
      "5 5\n",
      "3 2\n",
      "3 3\n",
      "4 4\n",
      "0 0\n",
      "2 0\n",
      "1 1\n",
      "4 5\n",
      "3 0\n",
      "1 1\n",
      "Populasi lama = \n",
      " [[1 1 0 1 1 1]\n",
      " [1 0 0 0 0 1]\n",
      " [0 0 1 1 0 0]\n",
      " [1 1 0 1 0 0]\n",
      " [0 0 0 0 1 0]\n",
      " [0 0 1 0 0 0]]\n",
      "Fitness lama = \n",
      " [ -72  -28  908 -180  128  548]\n",
      "Populasi baru = \n",
      " [[0 0 0 0 1 1]\n",
      " [0 0 0 1 1 0]\n",
      " [0 0 1 1 0 0]\n",
      " [0 0 0 1 0 0]\n",
      " [0 0 0 0 1 0]\n",
      " [0 0 1 0 0 0]]\n",
      "Fitness baru = \n",
      " [188 392 908 252 128 548]\n",
      "Elitist = \n",
      " [[1 1 0 1 0 0]\n",
      " [1 1 0 1 1 1]\n",
      " [1 0 0 0 0 1]\n",
      " [0 0 0 0 1 0]\n",
      " [0 0 0 0 1 1]\n",
      " [0 0 0 1 0 0]]\n"
     ]
    }
   ],
   "source": [
    "def GAwithElitist(numOfPopulation,generation):\n",
    "    population = generatePopulation(numOfPopulation)\n",
    "    print(\"Inisialisasi Populasi :\\n\",population)\n",
    "    for i in range(generation):\n",
    "        print(f\"Generasi-{i}\")\n",
    "        # algoritma genetik\n",
    "        oldPopulation = population.copy()\n",
    "        nilaiFitness = calculateFitness(population)\n",
    "        maxFitness = np.max(nilaiFitness)\n",
    "        newInd = selection(nilaiFitness)\n",
    "        population = newPopulation(newInd,population)\n",
    "        population = crossover(population)\n",
    "        population = mutation(population)\n",
    "        \n",
    "        \n",
    "         #elitist strategy\n",
    "        nilaiFitnessOld = calculateFitness(oldPopulation)\n",
    "        indOld = np.argsort(nilaiFitnessOld)\n",
    "        nilaiFitnessNew = calculateFitness(population)\n",
    "        indNew = np.argsort(nilaiFitnessNew)\n",
    "        \n",
    "        print(\"Populasi lama = \\n\",oldPopulation)\n",
    "        print(\"Fitness lama = \\n\",nilaiFitnessOld)\n",
    "        print(\"Populasi baru = \\n\",population)\n",
    "        print(\"Fitness baru = \\n\",nilaiFitnessNew)\n",
    "        \n",
    "        populationOld = newPopulation(indOld[0:numOfPopulation//2],oldPopulation)\n",
    "        populationNew = newPopulation(indNew[0:numOfPopulation//2],population)\n",
    "        \n",
    "        population[0:numOfPopulation//2] = populationOld[0:numOfPopulation//2]\n",
    "        population[numOfPopulation//2:numOfPopulation] = populationNew[0:numOfPopulation//2]\n",
    "        \n",
    "        print(\"Elitist = \\n\",population)\n",
    "        \n",
    "GAwithElitist(6,2)"
   ]
  }
 ],
 "metadata": {
  "kernelspec": {
   "display_name": "Python 3 (ipykernel)",
   "language": "python",
   "name": "python3"
  },
  "language_info": {
   "codemirror_mode": {
    "name": "ipython",
    "version": 3
   },
   "file_extension": ".py",
   "mimetype": "text/x-python",
   "name": "python",
   "nbconvert_exporter": "python",
   "pygments_lexer": "ipython3",
   "version": "3.11.4"
  }
 },
 "nbformat": 4,
 "nbformat_minor": 5
}
