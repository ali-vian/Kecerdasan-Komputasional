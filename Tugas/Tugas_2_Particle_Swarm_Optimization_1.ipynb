{
  "cells": [
    {
      "cell_type": "code",
      "execution_count": null,
      "id": "7b301c1d",
      "metadata": {
        "id": "7b301c1d",
        "outputId": "57fbbc96-e15c-44f3-88c0-6be79d7b72b3",
        "colab": {
          "base_uri": "https://localhost:8080/"
        }
      },
      "outputs": [
        {
          "output_type": "execute_result",
          "data": {
            "text/plain": [
              "[[0, 1], [0, 3]]"
            ]
          },
          "metadata": {},
          "execution_count": 4
        }
      ],
      "source": [
        "# Pengurangan Partikel\n",
        "\n",
        "a = [\"A\",\"C\",\"D\",\"B\"]\n",
        "b = [\"B\",\"A\",\"D\",\"C\"]\n",
        "\n",
        "def penguranganPartikel(a,b):\n",
        "    x = []\n",
        "    c = a.copy()\n",
        "    for i in a :\n",
        "        idx = [c.index(i),b.index(i)]\n",
        "        if idx[0] != idx[1] and  (idx not in x and idx[::-1] not in x) :\n",
        "            x.append([c.index(i),b.index(i)])\n",
        "            c[idx[0]],c[idx[1]]=c[idx[1]],c[idx[0]]\n",
        "    return x\n",
        "\n",
        "penguranganPartikel(a,b)"
      ]
    },
    {
      "cell_type": "code",
      "execution_count": null,
      "id": "b84412bf",
      "metadata": {
        "id": "b84412bf",
        "outputId": "fc422745-c8d9-4511-e7c4-9013b9b64e63",
        "colab": {
          "base_uri": "https://localhost:8080/"
        }
      },
      "outputs": [
        {
          "output_type": "execute_result",
          "data": {
            "text/plain": [
              "['D', 'C', 'A', 'B']"
            ]
          },
          "metadata": {},
          "execution_count": 5
        }
      ],
      "source": [
        "# pertambahan patikel dengan PP\n",
        "def pertambahanPP(a,pp):\n",
        "    X1 = a.copy()\n",
        "\n",
        "    X1[pp[0]],X1[pp[1]] = X1[pp[1]],X1[pp[0]]\n",
        "    return X1\n",
        "\n",
        "pp = [0,2]\n",
        "pertambahanPP(a,pp)"
      ]
    },
    {
      "cell_type": "code",
      "execution_count": null,
      "id": "73273d4b",
      "metadata": {
        "id": "73273d4b",
        "outputId": "b36f8c3f-641e-451f-e354-cfb35c1d2c60",
        "colab": {
          "base_uri": "https://localhost:8080/"
        }
      },
      "outputs": [
        {
          "output_type": "execute_result",
          "data": {
            "text/plain": [
              "['B', 'A', 'C', 'D']"
            ]
          },
          "metadata": {},
          "execution_count": 6
        }
      ],
      "source": [
        "# Pertambahan Partikel dengan HPP\n",
        "hpp = [[0, 2], [1, 2],[0,3]]\n",
        "def pertambahanHpp(a,hpp):\n",
        "    x1 = a.copy()\n",
        "    for i in hpp:\n",
        "        x1[i[0]],x1[i[1]] = x1[i[1]],x1[i[0]]\n",
        "    return x1\n",
        "\n",
        "pertambahanHpp(a,hpp)"
      ]
    },
    {
      "cell_type": "code",
      "execution_count": null,
      "id": "92c2d31f",
      "metadata": {
        "id": "92c2d31f",
        "outputId": "6fd7ec2f-554a-4b23-e534-660d0e90afd8",
        "colab": {
          "base_uri": "https://localhost:8080/"
        }
      },
      "outputs": [
        {
          "output_type": "stream",
          "name": "stdout",
          "text": [
            "[[0, 2], [1, 2], [0, 3], [3, 1], [2, 0]]\n"
          ]
        }
      ],
      "source": [
        "# Pertambahan hpp dengan hpp\n",
        "\n",
        "hpp1 = [[0, 2], [1, 2],[0,3]]\n",
        "hpp2 = [[3, 1], [2, 0]]\n",
        "print(hpp1+hpp2)"
      ]
    },
    {
      "cell_type": "code",
      "execution_count": null,
      "id": "ddebacb4",
      "metadata": {
        "id": "ddebacb4"
      },
      "outputs": [],
      "source": [
        "import matplotlib.pyplot as plt\n",
        "%matplotlib inline"
      ]
    },
    {
      "cell_type": "code",
      "execution_count": null,
      "id": "bfb02ac3",
      "metadata": {
        "scrolled": false,
        "id": "bfb02ac3",
        "outputId": "7be967ac-fa0e-4431-e4da-692a376a062b",
        "colab": {
          "base_uri": "https://localhost:8080/",
          "height": 1721
        }
      },
      "outputs": [
        {
          "output_type": "stream",
          "name": "stdout",
          "text": [
            "x1 = n [0, 1, 2, 3, 4]\n",
            "x2 = n [4, 1, 2, 0, 3]\n",
            "x3 = n [4, 3, 2, 0, 1]\n",
            "x4 = n [1, 4, 2, 3, 0]\n",
            "x5 = n [3, 2, 1, 4, 0]\n",
            "x6 = n [2, 1, 3, 4, 0]\n",
            "\n",
            "Fitness :\n",
            "f(p(0)) =  42.82554944311228\n",
            "f(p(1)) =  36.40158571216246\n",
            "f(p(2)) =  41.0717606943476\n",
            "f(p(3)) =  52.418931993784966\n",
            "f(p(4)) =  46.782884876853856\n",
            "f(p(5)) =  33.78186912250006\n",
            "[42.82554944311228, 36.40158571216246, 41.0717606943476, 52.418931993784966, 46.782884876853856, 33.78186912250006]\n",
            "gbest 33.78186912250006 => [2, 1, 3, 4, 0]\n",
            "\n",
            "Update Velocity :\n",
            "v1(1) =  [[0, 1], [0, 2], [0, 3], [0, 4], [0, 4], [2, 0], [3, 2]]\n",
            "v2(1) =  [[1, 4], [0, 2], [0, 4], [3, 0], [0, 3], [2, 0], [2, 4]]\n",
            "v3(1) =  [[2, 4], [0, 2], [1, 4], [0, 1], [3, 0], [0, 3], [1, 2], [1, 0], [1, 4]]\n",
            "v4(1) =  [[0, 2], [0, 2], [1, 0], [1, 3], [0, 1], [0, 3], [2, 0]]\n",
            "v5(1) =  [[3, 1], [0, 1], [0, 2], [0, 2], [1, 0]]\n",
            "v6(1) =  [[2, 3]]\n",
            "\n",
            "Update Partikel :\n",
            "\n",
            "Fitness :\n",
            "f(p(0)) =  42.82554944311228\n",
            "f(p(1)) =  36.40158571216246\n",
            "f(p(2)) =  41.0717606943476\n",
            "f(p(3)) =  52.418931993784966\n",
            "f(p(4)) =  46.782884876853856\n",
            "f(p(5)) =  33.78186912250006\n",
            "[42.82554944311228, 36.40158571216246, 41.0717606943476, 52.418931993784966, 46.782884876853856, 33.78186912250006]\n",
            "gbest 33.78186912250006 => [2, 1, 3, 4, 0]\n",
            "\n",
            "Update Velocity :\n",
            "v1(2) =  [[0, 1], [0, 2], [0, 3], [0, 4], [0, 4], [2, 0], [3, 2], [0, 2], [0, 3], [0, 4], [0, 4], [2, 0], [3, 2]]\n",
            "v2(2) =  [[1, 4], [0, 2], [0, 4], [3, 0], [0, 3], [2, 0], [2, 4], [0, 2], [0, 4], [3, 0], [0, 3], [2, 0], [2, 4]]\n",
            "v3(2) =  [[2, 4], [0, 2], [1, 4], [0, 1], [3, 0], [0, 3], [1, 2], [1, 0], [1, 4], [0, 2], [1, 4], [0, 1], [3, 0], [0, 3], [1, 2], [1, 0], [1, 4]]\n",
            "v4(2) =  [[0, 2], [0, 2], [1, 0], [1, 3], [0, 1], [0, 3], [2, 0], [0, 2], [1, 0], [1, 3], [0, 1], [0, 3], [2, 0]]\n",
            "v5(2) =  [[3, 1], [0, 1], [0, 2], [0, 2], [1, 0], [0, 1], [0, 2], [0, 2], [1, 0]]\n",
            "v6(2) =  [[2, 3]]\n",
            "\n",
            "Update Partikel :\n",
            "\n",
            "Fitness :\n",
            "f(p(0)) =  42.82554944311228\n",
            "f(p(1)) =  36.40158571216246\n",
            "f(p(2)) =  41.0717606943476\n",
            "f(p(3)) =  52.418931993784966\n",
            "f(p(4)) =  46.782884876853856\n",
            "f(p(5)) =  33.78186912250006\n",
            "[42.82554944311228, 36.40158571216246, 41.0717606943476, 52.418931993784966, 46.782884876853856, 33.78186912250006]\n",
            "gbest 33.78186912250006 => [2, 1, 3, 4, 0]\n",
            "\n",
            "Update Velocity :\n",
            "v1(3) =  [[0, 1], [0, 2], [0, 3], [0, 4], [0, 4], [2, 0], [3, 2], [0, 2], [0, 3], [0, 4], [0, 4], [2, 0], [3, 2], [0, 2], [0, 3], [0, 4], [0, 4], [2, 0], [3, 2]]\n",
            "v2(3) =  [[1, 4], [0, 2], [0, 4], [3, 0], [0, 3], [2, 0], [2, 4], [0, 2], [0, 4], [3, 0], [0, 3], [2, 0], [2, 4], [0, 2], [0, 4], [3, 0], [0, 3], [2, 0], [2, 4]]\n",
            "v3(3) =  [[2, 4], [0, 2], [1, 4], [0, 1], [3, 0], [0, 3], [1, 2], [1, 0], [1, 4], [0, 2], [1, 4], [0, 1], [3, 0], [0, 3], [1, 2], [1, 0], [1, 4], [0, 2], [1, 4], [0, 1], [3, 0], [0, 3], [1, 2], [1, 0], [1, 4]]\n",
            "v4(3) =  [[0, 2], [0, 2], [1, 0], [1, 3], [0, 1], [0, 3], [2, 0], [0, 2], [1, 0], [1, 3], [0, 1], [0, 3], [2, 0], [0, 2], [1, 0], [1, 3], [0, 1], [0, 3], [2, 0]]\n",
            "v5(3) =  [[3, 1], [0, 1], [0, 2], [0, 2], [1, 0], [0, 1], [0, 2], [0, 2], [1, 0], [0, 1], [0, 2], [0, 2], [1, 0]]\n",
            "v6(3) =  [[2, 3]]\n",
            "\n",
            "Update Partikel :\n",
            "x1(3) =  [1, 0, 2, 3, 4]\n",
            "x2(3) =  [4, 3, 2, 0, 1]\n",
            "x3(3) =  [4, 3, 1, 0, 2]\n",
            "x4(3) =  [2, 4, 1, 3, 0]\n",
            "x5(3) =  [3, 4, 1, 2, 0]\n",
            "x6(3) =  [2, 1, 4, 3, 0]\n"
          ]
        },
        {
          "output_type": "display_data",
          "data": {
            "text/plain": [
              "<Figure size 640x480 with 1 Axes>"
            ],
            "image/png": "[encoded data removed]"
          },
          "metadata": {}
        }
      ],
      "source": [
        "partikel = [[0,1,2,3,4],\n",
        "     [4,1,2,0,3],\n",
        "     [4,3,2,0,1],\n",
        "     [1,4,2,3,0],\n",
        "     [3,2,1,4,0],\n",
        "     [2,1,3,4,0]]\n",
        "koor  = [[12,6],[2,8],[10,14],[4,2],[6,2]]\n",
        "v = [[[0,1]],[[1,4]],[[2,4]],[[0,2]],[[3,1]],[[2,3]]]\n",
        "pi = partikel.copy()\n",
        "\n",
        "import math\n",
        "\n",
        "for i,x in enumerate(partikel) :\n",
        "    print(f\"x{i+1} = n\",x)\n",
        "\n",
        "def jarak_euclidean(p1, p2):\n",
        "    return math.sqrt((p1[0] - p2[0])**2 + (p1[1] - p2[1])**2)\n",
        "\n",
        "def hitung_fitness(rute, koordinat):\n",
        "    total_jarak = 0\n",
        "    for i in range(len(rute) - 1):\n",
        "        total_jarak += jarak_euclidean(koordinat[rute[i]], koordinat[rute[i + 1]])\n",
        "    total_jarak += jarak_euclidean(koordinat[rute[-1]], koordinat[rute[0]])\n",
        "    return total_jarak\n",
        "\n",
        "for x in range(3):\n",
        "    hasil = []\n",
        "    print(\"\\nFitness :\")\n",
        "    for k in range(len(partikel)) :\n",
        "        print(f\"f(p({k})) = \",hitung_fitness(partikel[k],koor))\n",
        "        if hitung_fitness(partikel[k],koor) < hitung_fitness(pi[k],koor):\n",
        "            pi[k]=partikel[k]\n",
        "            hasil.append(hitung_fitness(pi[k],koor))\n",
        "        else:\n",
        "            hasil.append(hitung_fitness(pi[k],koor))\n",
        "    print(hasil)\n",
        "    gbest = pi[hasil.index(min(hasil))]\n",
        "    print(\"gbest\",min(hasil),\"=>\",gbest)\n",
        "    print(\"\\nUpdate Velocity :\")\n",
        "    for j in range(len(partikel)):\n",
        "        temp = penguranganPartikel(gbest,partikel[j])\n",
        "        temp2 = penguranganPartikel(pi[j],partikel[k])\n",
        "        v[j] = v[j]+ temp+temp2\n",
        "        print(f\"v{j+1}({x+1}) = \",v[j])\n",
        "\n",
        "    print(\"\\nUpdate Partikel :\")\n",
        "\n",
        "for i in range(len(partikel)):\n",
        "\n",
        "    partikel[i] = pertambahanHpp(partikel[i],v[i])\n",
        "    print(f\"x{i+1}({x+1}) = \",partikel[i])\n",
        "\n",
        "x_plt = []\n",
        "y_plt = []\n",
        "for t in gbest:\n",
        "    x_plt.append(koor[t][0])\n",
        "    y_plt.append(koor[t][1])\n",
        "plt.plot(x_plt,y_plt,marker=\"o\")\n",
        "plt.title(\"Generasi Terbaik\")\n",
        "plt.show()"
      ]
    }
  ],
  "metadata": {
    "kernelspec": {
      "display_name": "Python 3 (ipykernel)",
      "language": "python",
      "name": "python3"
    },
    "language_info": {
      "codemirror_mode": {
        "name": "ipython",
        "version": 3
      },
      "file_extension": ".py",
      "mimetype": "text/x-python",
      "name": "python",
      "nbconvert_exporter": "python",
      "pygments_lexer": "ipython3",
      "version": "3.11.4"
    },
    "colab": {
      "provenance": []
    }
  },
  "nbformat": 4,
  "nbformat_minor": 5
}