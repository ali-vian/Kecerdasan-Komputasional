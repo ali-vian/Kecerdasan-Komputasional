{
 "cells": [
  {
   "cell_type": "code",
   "execution_count": 1,
   "id": "9d858c96",
   "metadata": {
    "id": "9d858c96"
   },
   "outputs": [],
   "source": [
    "import numpy as np"
   ]
  },
  {
   "cell_type": "code",
   "execution_count": 2,
   "id": "6b0dc67f",
   "metadata": {
    "id": "6b0dc67f"
   },
   "outputs": [],
   "source": [
    "def generateKoordinatCity(numOfCity):\n",
    "\n",
    "    count = 0\n",
    "    temp=[]\n",
    "    while count < numOfCity :\n",
    "        coordinate_x= int(input(f\"masukkan koordinat kota {count+1} x : \"))\n",
    "        coordinate_y= int(input(f\"masukkan koordinat kota {count+1} y : \"))\n",
    "        if [coordinate_x,coordinate_y] not in temp :\n",
    "            temp.append([coordinate_x,coordinate_y])\n",
    "            count+=1\n",
    "    return np.array(temp)\n",
    "\n"
   ]
  },
  {
   "cell_type": "code",
   "execution_count": 3,
   "id": "864be5e6",
   "metadata": {
    "id": "864be5e6"
   },
   "outputs": [],
   "source": [
    "def generateIndividu(numOfCity):\n",
    "    ind = np.zeros(numOfCity,dtype=int)-1\n",
    "    count = 0\n",
    "    while count < numOfCity:\n",
    "        temp = np.random.randint(numOfCity)\n",
    "        if temp not in ind :\n",
    "            ind[count] = temp\n",
    "            count += 1\n",
    "    return ind\n",
    "\n"
   ]
  },
  {
   "cell_type": "code",
   "execution_count": 4,
   "id": "6c6cd2fa",
   "metadata": {
    "id": "6c6cd2fa"
   },
   "outputs": [],
   "source": [
    "def generatePopulation(individu,numOfCity):\n",
    "    population = np.zeros([individu,numOfCity],dtype=int)\n",
    "    for i in range(individu):\n",
    "        population[i] =  generateIndividu(numOfCity)\n",
    "    location = generateKoordinatCity(numOfCity)\n",
    "    return population,location\n",
    "\n"
   ]
  },
  {
   "cell_type": "code",
   "execution_count": 5,
   "id": "b2e44a43",
   "metadata": {
    "id": "b2e44a43"
   },
   "outputs": [],
   "source": [
    "def calculateFitness(population,coordinat):\n",
    "    (numOfIndividu,numOfCity) = population.shape\n",
    "    fitness = np.zeros(numOfIndividu)\n",
    "    for i in range(numOfIndividu):\n",
    "        jarak=0.0\n",
    "        for j in range(numOfCity-1):\n",
    "            jarak += np.sqrt(sum((coordinat[population[i,j]]-coordinat[population[i,j+1]])**2))\n",
    "        fitness[i] = 1/jarak\n",
    "    return fitness"
   ]
  },
  {
   "cell_type": "code",
   "execution_count": 6,
   "id": "9d979a90",
   "metadata": {
    "id": "9d979a90"
   },
   "outputs": [],
   "source": [
    "def selection(fitness):\n",
    "\n",
    "    totalFitness = np.sum(fitness)\n",
    "\n",
    "    probIndividu = fitness/totalFitness\n",
    "    sizeIndividu= len(fitness)\n",
    "\n",
    "    komulatif = np.zeros(sizeIndividu+1)\n",
    "    for i in range(sizeIndividu):\n",
    "        komulatif[i+1] = komulatif[i]+probIndividu[i]\n",
    "\n",
    "    count=0\n",
    "    newProb = np.zeros(sizeIndividu,dtype=int)\n",
    "    for j in range(sizeIndividu):\n",
    "        roulette = np.random.rand(1)\n",
    "        for i in range(sizeIndividu+1):\n",
    "            if roulette>komulatif[i] and roulette <= komulatif[i+1]:\n",
    "                newProb[count]=i\n",
    "        count+=1\n",
    "    return newProb"
   ]
  },
  {
   "cell_type": "code",
   "execution_count": 20,
   "id": "bfeee573",
   "metadata": {},
   "outputs": [
    {
     "name": "stdout",
     "output_type": "stream",
     "text": [
      "Sebelum [[0 1 2 3]\n",
      " [3 0 2 1]\n",
      " [3 1 2 0]\n",
      " [2 3 0 1]\n",
      " [0 1 3 2]\n",
      " [0 3 2 1]\n",
      " [2 3 0 1]\n",
      " [3 2 1 0]\n",
      " [1 0 3 2]\n",
      " [1 0 2 3]]\n",
      "Sebelum  [0.3 0.4 0.6 0.6 0.2 1.  6.5 7.1 8.  4.7]\n",
      "Sesudah [7 7 8 8 9 6 8 7 7 6]\n"
     ]
    }
   ],
   "source": [
    "population = np.array([[0,1,2,3],\n",
    "                   [3,0,2,1],\n",
    "                   [3,1,2,0],\n",
    "                   [2,3,0,1],\n",
    "                   [0,1,3,2],\n",
    "                   [0,3,2,1],\n",
    "                   [2,3,0,1],\n",
    "                    [3,2,1,0],\n",
    "                    [1,0,3,2],\n",
    "                    [1,0,2,3]])\n",
    "print(\"Sebelum\",population)\n",
    "fitnes = np.array([0.3,0.4,0.6,0.6,0.2,1.0,6.5,7.1,8,4.7])\n",
    "print(\"Sebelum \",fitnes)\n",
    "newInd = selection(fitnes)\n",
    "print(\"Sesudah\",newInd)\n"
   ]
  },
  {
   "cell_type": "code",
   "execution_count": 7,
   "id": "a537d2b2",
   "metadata": {
    "id": "a537d2b2"
   },
   "outputs": [],
   "source": [
    "def newPopulation(idx,population):\n",
    "    newP = np.zeros_like(population)\n",
    "    for i in range(len(idx)):\n",
    "        newP[i] = population[idx[i]]\n",
    "    return newP\n"
   ]
  },
  {
   "cell_type": "code",
   "execution_count": 8,
   "id": "4a1dda11",
   "metadata": {
    "id": "4a1dda11"
   },
   "outputs": [],
   "source": [
    "def crossover(population):\n",
    "    newP = population.copy()\n",
    "    (numOfIndividu,numOfCity) = population.shape\n",
    "    for i in range(numOfIndividu):\n",
    "        ind1,ind2 = np.random.randint(numOfCity),np.random.randint(numOfCity)\n",
    "        if ind1 <= ind2 :\n",
    "            temp = ind2\n",
    "            \n",
    "            for j in range(ind1,ind2+1):\n",
    "                newP[i,j] = population[i,temp]\n",
    "                temp-=1\n",
    "        else:\n",
    "            temp = ind1\n",
    "            for j in range(ind2,ind1+1):\n",
    "                newP[i,j] = population[i,temp]\n",
    "                temp-=1\n",
    "    return newP\n",
    "\n"
   ]
  },
  {
   "cell_type": "code",
   "execution_count": 9,
   "id": "6be1381d",
   "metadata": {
    "id": "6be1381d"
   },
   "outputs": [],
   "source": [
    "def mutation(population):\n",
    "    newP = population.copy()\n",
    "    (numOfIndividu,numOfCity) = population.shape\n",
    "    for i in range(numOfIndividu):\n",
    "        ind1,ind2 = np.random.randint(numOfCity),np.random.randint(numOfCity)\n",
    "        newP[i,ind1],newP[i,ind2] = newP[i,ind2],newP[i,ind1]\n",
    "    return newP\n"
   ]
  },
  {
   "cell_type": "code",
   "execution_count": 10,
   "id": "c6b6fc8b",
   "metadata": {
    "id": "c6b6fc8b",
    "scrolled": false
   },
   "outputs": [],
   "source": [
    "import matplotlib.pyplot as plt\n",
    "def geneticAlgoritm(numOfPopulation, generation):\n",
    "    numOfCity = int(input('masukkan jumlah kota : '))\n",
    "    (population, location) = generatePopulation(numOfPopulation, numOfCity)\n",
    "    print(\"Inisialisasi Populasi :\\n\", population)\n",
    "    print(\"Loaction \",location)\n",
    "\n",
    "    bestPopulation = 0\n",
    "    bestFitness = 0\n",
    "\n",
    "    for i in range(generation):\n",
    "        print(f\"Generasi-{i}\")\n",
    "        nilaiFitness = calculateFitness(population, location)\n",
    "        print('Nilai Fitness : ',nilaiFitness)\n",
    "        newInd = selection(nilaiFitness)\n",
    "        print(\"Indeks hasil populasi seleksi :\", newInd)\n",
    "        population = newPopulation(newInd, population)\n",
    "        print(\"Individu Hasil Seleksi :\\n\", population)\n",
    "        population = crossover(population)\n",
    "        print(\"Hasil crossover :\\n\", population)\n",
    "        population = mutation(population)\n",
    "        print(\"Hasil mutasi :\\n\", population)\n",
    "\n",
    "\n",
    "        bestIndex = nilaiFitness.argmax()\n",
    "        if nilaiFitness[bestIndex] > bestFitness:\n",
    "            bestPopulation = population[bestIndex]\n",
    "            bestFitness = nilaiFitness[bestIndex]\n",
    "\n",
    "        disp = []\n",
    "        for i in range(len(bestPopulation)) :\n",
    "            disp.append(location[bestPopulation[i]])\n",
    "\n",
    "\n",
    "\n",
    "\n",
    "    print(\"\\nPopulasi terbaik:\")\n",
    "    print(bestPopulation)\n",
    "    print(\"Fitness:\", bestFitness)\n",
    "    print(\"--------\",disp)\n",
    "    x_points = []\n",
    "    y_points = []\n",
    "    for i in disp:\n",
    "        x_points.append(i[0])\n",
    "        y_points.append(i[1])\n",
    "    plt.plot(x_points,y_points)\n",
    "    return population\n"
   ]
  },
  {
   "cell_type": "code",
   "execution_count": 11,
   "id": "7VfQzSMlypBM",
   "metadata": {
    "colab": {
     "base_uri": "https://localhost:8080/",
     "height": 4928
    },
    "id": "7VfQzSMlypBM",
    "outputId": "257a8b4c-a3e3-45a2-ec8f-e964aaf6b593",
    "scrolled": false
   },
   "outputs": [
    {
     "name": "stdout",
     "output_type": "stream",
     "text": [
      "masukkan jumlah kota : 4\n",
      "masukkan koordinat kota 1 x : 2\n",
      "masukkan koordinat kota 1 y : 5\n",
      "masukkan koordinat kota 2 x : 7\n",
      "masukkan koordinat kota 2 y : 6\n",
      "masukkan koordinat kota 3 x : 1\n",
      "masukkan koordinat kota 3 y : 8\n",
      "masukkan koordinat kota 4 x : 9\n",
      "masukkan koordinat kota 4 y : 3\n",
      "Inisialisasi Populasi :\n",
      " [[2 0 1 3]\n",
      " [2 0 1 3]\n",
      " [2 3 0 1]\n",
      " [0 2 3 1]\n",
      " [2 0 3 1]\n",
      " [3 2 0 1]]\n",
      "Loaction  [[2 5]\n",
      " [7 6]\n",
      " [1 8]\n",
      " [9 3]]\n",
      "Generasi-0\n",
      "Nilai Fitness :  [0.08426837 0.08426837 0.04584399 0.0617215  0.07118482 0.05651225]\n",
      "Indeks hasil populasi seleksi : [0 0 3 5 1 2]\n",
      "Individu Hasil Seleksi :\n",
      " [[2 0 1 3]\n",
      " [2 0 1 3]\n",
      " [0 2 3 1]\n",
      " [3 2 0 1]\n",
      " [2 0 1 3]\n",
      " [2 3 0 1]]\n",
      "Hasil crossover :\n",
      " [[2 0 1 3]\n",
      " [2 0 3 1]\n",
      " [0 2 3 1]\n",
      " [3 0 2 1]\n",
      " [2 0 3 1]\n",
      " [2 1 0 3]]\n",
      "Hasil mutasi :\n",
      " [[2 3 1 0]\n",
      " [2 0 3 1]\n",
      " [3 2 0 1]\n",
      " [3 1 2 0]\n",
      " [3 0 2 1]\n",
      " [1 2 0 3]]\n",
      "Generasi-1\n",
      "Nilai Fitness :  [0.05513119 0.07118482 0.05651225 0.07638028 0.05964116 0.05964116]\n",
      "Indeks hasil populasi seleksi : [4 1 1 1 3 1]\n",
      "Individu Hasil Seleksi :\n",
      " [[3 0 2 1]\n",
      " [2 0 3 1]\n",
      " [2 0 3 1]\n",
      " [2 0 3 1]\n",
      " [3 1 2 0]\n",
      " [2 0 3 1]]\n",
      "Hasil crossover :\n",
      " [[3 0 2 1]\n",
      " [0 2 3 1]\n",
      " [2 3 0 1]\n",
      " [2 1 3 0]\n",
      " [3 1 0 2]\n",
      " [2 1 3 0]]\n",
      "Hasil mutasi :\n",
      " [[3 2 0 1]\n",
      " [3 2 0 1]\n",
      " [3 2 0 1]\n",
      " [1 2 3 0]\n",
      " [3 0 1 2]\n",
      " [1 2 3 0]]\n",
      "\n",
      "Populasi terbaik:\n",
      "[2 3 1 0]\n",
      "Fitness: 0.08426837203480887\n",
      "-------- [array([1, 8]), array([9, 3]), array([7, 6]), array([2, 5])]\n"
     ]
    },
    {
     "data": {
      "text/plain": [
       "array([[3, 2, 0, 1],\n",
       "       [3, 2, 0, 1],\n",
       "       [3, 2, 0, 1],\n",
       "       [1, 2, 3, 0],\n",
       "       [3, 0, 1, 2],\n",
       "       [1, 2, 3, 0]])"
      ]
     },
     "execution_count": 11,
     "metadata": {},
     "output_type": "execute_result"
    },
    {
     "data": {
      "image/png": "[encoded data removed]",
      "text/plain": [
       "<Figure size 640x480 with 1 Axes>"
      ]
     },
     "metadata": {},
     "output_type": "display_data"
    }
   ],
   "source": [
    "geneticAlgoritm(6,2)"
   ]
  }
 ],
 "metadata": {
  "colab": {
   "provenance": []
  },
  "kernelspec": {
   "display_name": "Python 3 (ipykernel)",
   "language": "python",
   "name": "python3"
  },
  "language_info": {
   "codemirror_mode": {
    "name": "ipython",
    "version": 3
   },
   "file_extension": ".py",
   "mimetype": "text/x-python",
   "name": "python",
   "nbconvert_exporter": "python",
   "pygments_lexer": "ipython3",
   "version": "3.11.4"
  }
 },
 "nbformat": 4,
 "nbformat_minor": 5
}
