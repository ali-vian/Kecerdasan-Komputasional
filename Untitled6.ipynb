{
 "cells": [
  {
   "cell_type": "markdown",
   "id": "dc2d8111",
   "metadata": {},
   "source": [
    "Rumus: Untuk setiap fitur $X_i$ dalam dataset, proses transformasi yang dilakukan oleh StandardScaler adalah:\n",
    "$$ X\\_scaled\\_i = \\frac{X_i - \\mu}{\\sigma}$$\n",
    "di mana:\n",
    "- $X_i$ adalah nilai dari fitur i.\n",
    "- $\\mu$ adalah mean dari fitur tersebut di seluruh data.\n",
    "- $\\sigma$ adalah standar deviasi dari fitur tersebut di seluruh data."
   ]
  }
 ],
 "metadata": {
  "kernelspec": {
   "display_name": "Python 3 (ipykernel)",
   "language": "python",
   "name": "python3"
  },
  "language_info": {
   "codemirror_mode": {
    "name": "ipython",
    "version": 3
   },
   "file_extension": ".py",
   "mimetype": "text/x-python",
   "name": "python",
   "nbconvert_exporter": "python",
   "pygments_lexer": "ipython3",
   "version": "3.11.4"
  }
 },
 "nbformat": 4,
 "nbformat_minor": 5
}
