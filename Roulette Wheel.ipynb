{
 "cells": [
  {
   "cell_type": "markdown",
   "id": "f05abf09",
   "metadata": {},
   "source": [
    "- Algoritma Genetika : salah satu algoritma dari komputasi evolusi yang mensimulasikan evolusi gen untuk memecahkan suatu permasalahan, dengan cara memilih individu yang terbaik\n",
    "- permasalahan optimasi : permasalahan yang memiliki banyak kemungkinan solusi\n",
    "- kromosom atau individu : individu yang merepresentasikan kandidat solusi untuk permasalahan optimasi\n",
    "- Individu atau kromosom tersusun atas beberapa gen\n",
    "- fungsi fitness : fungsi yang digunakan untuk mengukur ke optimalan kandidat solusi pada pemecahan permasalahan optimasi\n",
    "- roulettw wheel : pada metode ini kromosom dipilih berdasarkan probabilitas nilai fitness dari masing masing kromosom tersebut\n",
    "- rank base selection : pada metode ini probabilitas seleksi sudah ditentukan sebelumnya berdasarkan rangking (berdasarkan peringkat nilai fitness) dengan harapan kromosom tidak dipilih sampai beberapa kali\n",
    "- crossover : penukaran gen-gen kromosom dari parents sehingga menghasilkan individu baru\n",
    "- offspring = kromosom baru yang dibentuk setelah proses crossover\n",
    "- mutasi oprasi perubahan gen pada kromosom"
   ]
  },
  {
   "cell_type": "code",
   "execution_count": 2,
   "id": "d37eea9d",
   "metadata": {},
   "outputs": [],
   "source": [
    "import numpy as np"
   ]
  },
  {
   "cell_type": "code",
   "execution_count": 30,
   "id": "3cc09e4e",
   "metadata": {},
   "outputs": [
    {
     "name": "stdout",
     "output_type": "stream",
     "text": [
      "probabilitas setiap individu :  [0.1  0.2  0.5  0.05 0.05 0.1 ]\n",
      "Nilai Komulatif :  [0.   0.1  0.3  0.8  0.85 0.9  1.  ]\n",
      "1 0 = 0.082\n",
      "2 2 = 0.64\n",
      "3 2 = 0.54\n",
      "4 0 = 0.057\n",
      "5 2 = 0.79\n",
      "6 1 = 0.16\n",
      "Hasil Seleksi :  [0 2 2 0 2 1]\n"
     ]
    }
   ],
   "source": [
    "def rouletteWheel(fitness):\n",
    "\n",
    "    #total nilai fitness\n",
    "    totalFitness = np.sum(fitness)\n",
    "    \n",
    "    #probabilitas setiap individu\n",
    "    probIndividu = fitness/totalFitness\n",
    "    sizeIndividu= len(fitness)\n",
    "    print(\"probabilitas setiap individu : \",probIndividu)\n",
    "    \n",
    "    #komulatif untuk roulette wheel untuk membentuk ruang\n",
    "    komulatif = np.zeros(sizeIndividu+1)\n",
    "    for i in range(sizeIndividu) :\n",
    "        komulatif[i+1] = komulatif[i]+probIndividu[i]\n",
    "    print(\"Nilai Komulatif : \",komulatif)\n",
    "    \n",
    "    #seleksi acak\n",
    "    count=0\n",
    "    newProb = np.zeros(sizeIndividu,dtype=int)\n",
    "    for j in range(sizeIndividu):\n",
    "        roulette = np.random.rand(1)\n",
    "        for i in range(sizeIndividu+1):\n",
    "            if roulette>komulatif[i] and roulette <= komulatif[i+1]:\n",
    "                newProb[count]=i\n",
    "                print(count+1,i,\"=\",f\"{roulette[0]:.2}\")\n",
    "        count+=1\n",
    "    return newProb\n",
    "\n",
    "nilaiFitness = np.array([0.1,0.2,0.5,0.05,0.05,0.1])\n",
    "x = rouletteWheel(nilaiFitness)\n",
    "print(\"Hasil Seleksi : \",x)"
   ]
  },
  {
   "cell_type": "code",
   "execution_count": null,
   "id": "550639b4",
   "metadata": {},
   "outputs": [],
   "source": []
  },
  {
   "cell_type": "code",
   "execution_count": null,
   "id": "d58a1843",
   "metadata": {},
   "outputs": [],
   "source": []
  }
 ],
 "metadata": {
  "kernelspec": {
   "display_name": "Python 3 (ipykernel)",
   "language": "python",
   "name": "python3"
  },
  "language_info": {
   "codemirror_mode": {
    "name": "ipython",
    "version": 3
   },
   "file_extension": ".py",
   "mimetype": "text/x-python",
   "name": "python",
   "nbconvert_exporter": "python",
   "pygments_lexer": "ipython3",
   "version": "3.11.4"
  }
 },
 "nbformat": 4,
 "nbformat_minor": 5
}
