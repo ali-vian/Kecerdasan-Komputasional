{
 "cells": [
  {
   "cell_type": "code",
   "execution_count": 10,
   "id": "bfb02ac3",
   "metadata": {},
   "outputs": [
    {
     "ename": "SyntaxError",
     "evalue": "'[' was never closed (4282875163.py, line 8)",
     "output_type": "error",
     "traceback": [
      "\u001b[1;36m  Cell \u001b[1;32mIn[10], line 8\u001b[1;36m\u001b[0m\n\u001b[1;33m    v = [[0,1],[1,4],[2,4],[0,2],[3,1],[2,3]\u001b[0m\n\u001b[1;37m        ^\u001b[0m\n\u001b[1;31mSyntaxError\u001b[0m\u001b[1;31m:\u001b[0m '[' was never closed\n"
     ]
    }
   ],
   "source": [
    "partikel = [[0,1,2,3,4],\n",
    "     [4,1,2,0,3],\n",
    "     [4,3,2,0,1],\n",
    "     [1,4,2,3,0],\n",
    "     [3,2,1,4,0],\n",
    "     [2,1,3,4,0]]\n",
    "koor  = [[12,6],[2,8],[10,14],[4,2],[6,2]]\n",
    "v = [[0,1],[1,4],[2,4],[0,2],[3,1],[2,3]\n",
    "\n",
    "pi = partikel.copy()\n",
    "\n",
    "import math\n",
    "\n",
    "for i,x in enumerate(partikel) :\n",
    "    print(f\"x{i+1} = n\",x)\n",
    "\n",
    "def jarak_euclidean(p1, p2):\n",
    "    return math.sqrt((p1[0] - p2[0])**2 + (p1[1] - p2[1])**2)\n",
    "\n",
    "def hitung_fitness(rute, koordinat):\n",
    "    total_jarak = 0\n",
    "    for i in range(len(rute) - 1):\n",
    "        total_jarak += jarak_euclidean(koordinat[rute[i]], koordinat[rute[i + 1]])\n",
    "    total_jarak += jarak_euclidean(koordinat[rute[-1]], koordinat[rute[0]])  # kembali ke kota awal\n",
    "    return total_jarak\n",
    "\n",
    "for x in range(1):\n",
    "    hasil = []\n",
    "    for k in range(len(partikel)) :\n",
    "        print(f\"f(p({x})) = \",hitung_fitness(partikel[k],koor))\n",
    "        if hitung_fitness(partikel[k],koor) <= hitung_fitness(pi[k],koor):\n",
    "            pi[k]=hitung_fitness(partikel[k],koor)\n",
    "            hasil.append(hitung_fitness(partikel[k],koor))\n",
    "            \n",
    "    gbest = partikel[hasil.index(min(hasil))]\n",
    "    print(\"gbest\",min(hasil),\"=>\",gbest)\n",
    "    \n",
    "    print(\"\\nUpdate Velocity :\")\n",
    "    for i in range(len(partikel)):\n",
    "        v[i] = c[0]*v[i]+c[1]*r[0]*(pi[i]-partikel[i])+c[2]*r[1]*(gbest-partikel[i])\n",
    "        print(f\"v{i+1}({x+1}) = \",v[i])\n",
    "    print(\"\\nUpdate Partikel :\")\n",
    "\n",
    "    \n"
   ]
  },
  {
   "cell_type": "code",
   "execution_count": 9,
   "id": "7b301c1d",
   "metadata": {},
   "outputs": [
    {
     "name": "stdout",
     "output_type": "stream",
     "text": [
      "[[0, 1], [0, 3]]\n"
     ]
    }
   ],
   "source": [
    "# Pengurangan Partikel\n",
    "\n",
    "a = [\"A\",\"C\",\"D\",\"B\"]\n",
    "b = [\"B\",\"A\",\"D\",\"C\"]\n",
    "\n",
    "x = []\n",
    "c = a.copy()\n",
    "for i in a :\n",
    "    idx = [c.index(i),b.index(i)]\n",
    "    if idx[0] != idx[1] and  (idx not in x and idx[::-1] not in x) :\n",
    "        x.append([c.index(i),b.index(i)])\n",
    "        c[idx[0]],c[idx[1]]=c[idx[1]],c[idx[0]]\n",
    "\n",
    "print(x)"
   ]
  },
  {
   "cell_type": "code",
   "execution_count": 6,
   "id": "73273d4b",
   "metadata": {},
   "outputs": [
    {
     "name": "stdout",
     "output_type": "stream",
     "text": [
      "True\n"
     ]
    }
   ],
   "source": []
  }
 ],
 "metadata": {
  "kernelspec": {
   "display_name": "Python 3 (ipykernel)",
   "language": "python",
   "name": "python3"
  },
  "language_info": {
   "codemirror_mode": {
    "name": "ipython",
    "version": 3
   },
   "file_extension": ".py",
   "mimetype": "text/x-python",
   "name": "python",
   "nbconvert_exporter": "python",
   "pygments_lexer": "ipython3",
   "version": "3.11.4"
  }
 },
 "nbformat": 4,
 "nbformat_minor": 5
}
