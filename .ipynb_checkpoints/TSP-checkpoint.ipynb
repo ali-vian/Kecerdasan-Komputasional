{
 "cells": [
  {
   "cell_type": "code",
   "execution_count": 1,
   "id": "9d858c96",
   "metadata": {},
   "outputs": [],
   "source": [
    "import numpy as np"
   ]
  },
  {
   "cell_type": "code",
   "execution_count": 2,
   "id": "6b0dc67f",
   "metadata": {},
   "outputs": [
    {
     "name": "stdout",
     "output_type": "stream",
     "text": [
      "[[11 16]\n",
      " [14  4]\n",
      " [13 17]\n",
      " [ 2 12]\n",
      " [ 9  5]\n",
      " [ 7 11]]\n"
     ]
    }
   ],
   "source": [
    "def generateKoordinatCity(numOfCity):\n",
    "    temp = np.zeros([numOfCity,2],dtype=int)\n",
    "    count = 0\n",
    "    while count < numOfCity :\n",
    "        x,y = np.random.randint(20),np.random.randint(20)\n",
    "        if [x,y] not in temp :\n",
    "            temp[count]=[x,y]\n",
    "            count+=1\n",
    "    return temp\n",
    "    \n",
    "print(generateKoordinatCity(6))"
   ]
  },
  {
   "cell_type": "code",
   "execution_count": 3,
   "id": "864be5e6",
   "metadata": {},
   "outputs": [
    {
     "name": "stdout",
     "output_type": "stream",
     "text": [
      "[0 3 1 5 4 2]\n"
     ]
    }
   ],
   "source": [
    "def generateIndividu(numOfCity):\n",
    "    ind = np.zeros(numOfCity,dtype=int)-1\n",
    "    count = 0\n",
    "    while count < numOfCity:\n",
    "        temp = np.random.randint(numOfCity)\n",
    "        if temp not in ind :\n",
    "            ind[count] = temp\n",
    "            count += 1\n",
    "    return ind \n",
    "\n",
    "print(generateIndividu(6))"
   ]
  },
  {
   "cell_type": "code",
   "execution_count": 4,
   "id": "6c6cd2fa",
   "metadata": {},
   "outputs": [
    {
     "name": "stdout",
     "output_type": "stream",
     "text": [
      "Populasi = \n",
      " [[7 0 3 6 2 4 5 1]\n",
      " [3 7 6 5 1 4 0 2]\n",
      " [1 5 3 4 7 2 0 6]\n",
      " [4 5 0 6 2 1 3 7]\n",
      " [1 4 5 0 2 7 6 3]\n",
      " [6 7 3 2 5 1 4 0]]\n",
      "Koordinat Kota = \n",
      " [[15  7]\n",
      " [ 9 10]\n",
      " [13 17]\n",
      " [ 7 18]\n",
      " [ 5 12]\n",
      " [14  3]\n",
      " [18 13]\n",
      " [ 4  8]]\n"
     ]
    }
   ],
   "source": [
    "def generatePopulation(individu,numOfCity):\n",
    "    population = np.zeros([individu,numOfCity],dtype=int)\n",
    "    for i in range(individu):\n",
    "        population[i] =  generateIndividu(numOfCity)\n",
    "    location = generateKoordinatCity(numOfCity)\n",
    "    return population,location\n",
    "\n",
    "population,location = generatePopulation(6,8)\n",
    "print(\"Populasi = \\n\",population)\n",
    "print(\"Koordinat Kota = \\n\",location)"
   ]
  },
  {
   "cell_type": "code",
   "execution_count": 5,
   "id": "b2e44a43",
   "metadata": {},
   "outputs": [
    {
     "name": "stdout",
     "output_type": "stream",
     "text": [
      "Populasi = \n",
      " [[7 0 3 6 2 4 5 1]\n",
      " [3 7 6 5 1 4 0 2]\n",
      " [1 5 3 4 7 2 0 6]\n",
      " [4 5 0 6 2 1 3 7]\n",
      " [1 4 5 0 2 7 6 3]\n",
      " [6 7 3 2 5 1 4 0]]\n",
      "Koordinat Kota = \n",
      " [[15  7]\n",
      " [ 9 10]\n",
      " [13 17]\n",
      " [ 7 18]\n",
      " [ 5 12]\n",
      " [14  3]\n",
      " [18 13]\n",
      " [ 4  8]]\n",
      "[0.01353231 0.01417846 0.0153287  0.01763322 0.01404529 0.0143514 ]\n"
     ]
    }
   ],
   "source": [
    "def calculateFitness(population,coordinat):\n",
    "    (numOfIndividu,numOfCity) = population.shape\n",
    "    fitness = np.zeros(numOfIndividu)\n",
    "    for i in range(numOfIndividu):\n",
    "        jarak=0.0\n",
    "        for j in range(numOfCity-1):\n",
    "            jarak += np.sqrt(sum((coordinat[population[i,j]]-coordinat[population[i,j+1]])**2))\n",
    "        fitness[i] = 1/jarak\n",
    "    return fitness\n",
    "\n",
    "# population = np.array([[1,4,0,3,2],[2,1,3,4,0],[1,3,2,4,0],[0,4,1,2,3]])\n",
    "# location = np.array([[2,3],[4,7],[9,0],[10,8],[16,5]])\n",
    "print(\"Populasi = \\n\",population)\n",
    "print(\"Koordinat Kota = \\n\",location)\n",
    "fitness = calculateFitness(population,location)\n",
    "print(fitness)"
   ]
  },
  {
   "cell_type": "code",
   "execution_count": 6,
   "id": "9d979a90",
   "metadata": {},
   "outputs": [
    {
     "name": "stdout",
     "output_type": "stream",
     "text": [
      "[0 2 0 5 4 5]\n"
     ]
    }
   ],
   "source": [
    "def selection(fitness):\n",
    "    \n",
    "    totalFitness = np.sum(fitness)\n",
    "    \n",
    "    probIndividu = fitness/totalFitness\n",
    "    sizeIndividu= len(fitness)\n",
    "    \n",
    "    komulatif = np.zeros(sizeIndividu+1)\n",
    "    for i in range(sizeIndividu):\n",
    "        komulatif[i+1] = komulatif[i]+probIndividu[i]\n",
    "    \n",
    "    count=0\n",
    "    newProb = np.zeros(sizeIndividu,dtype=int)\n",
    "    for j in range(sizeIndividu):\n",
    "        roulette = np.random.rand(1)\n",
    "        for i in range(sizeIndividu+1):\n",
    "            if roulette>komulatif[i] and roulette <= komulatif[i+1]:\n",
    "                newProb[count]=i\n",
    "        count+=1\n",
    "    return newProb\n",
    "\n",
    "\n",
    "idx = selection(fitness)\n",
    "\n",
    "print(idx)"
   ]
  },
  {
   "cell_type": "code",
   "execution_count": 7,
   "id": "a537d2b2",
   "metadata": {},
   "outputs": [
    {
     "name": "stdout",
     "output_type": "stream",
     "text": [
      "[[7 0 3 6 2 4 5 1]\n",
      " [3 7 6 5 1 4 0 2]\n",
      " [1 5 3 4 7 2 0 6]\n",
      " [4 5 0 6 2 1 3 7]\n",
      " [1 4 5 0 2 7 6 3]\n",
      " [6 7 3 2 5 1 4 0]]\n",
      "New Populasi dari hasil seleksi:\n",
      " [[7 0 3 6 2 4 5 1]\n",
      " [1 5 3 4 7 2 0 6]\n",
      " [7 0 3 6 2 4 5 1]\n",
      " [6 7 3 2 5 1 4 0]\n",
      " [1 4 5 0 2 7 6 3]\n",
      " [6 7 3 2 5 1 4 0]]\n"
     ]
    }
   ],
   "source": [
    "def newPopulation(idx,population):\n",
    "    newP = np.zeros_like(population)\n",
    "    for i in range(len(idx)):\n",
    "        newP[i] = population[idx[i]]\n",
    "    return newP\n",
    "newPop = newPopulation(idx,population)\n",
    "print(population)\n",
    "print(\"New Populasi dari hasil seleksi:\\n\",newPop)"
   ]
  },
  {
   "cell_type": "code",
   "execution_count": 8,
   "id": "4a1dda11",
   "metadata": {},
   "outputs": [
    {
     "name": "stdout",
     "output_type": "stream",
     "text": [
      "[[7 0 3 6 2 4 5 1]\n",
      " [1 5 3 4 7 2 0 6]\n",
      " [7 0 3 6 2 4 5 1]\n",
      " [6 7 3 2 5 1 4 0]\n",
      " [1 4 5 0 2 7 6 3]\n",
      " [6 7 3 2 5 1 4 0]]\n",
      "Hasil Crossover :\n",
      " [[7 2 6 3 0 4 5 1]\n",
      " [1 5 4 3 7 2 0 6]\n",
      " [7 5 4 2 6 3 0 1]\n",
      " [6 7 3 2 5 4 1 0]\n",
      " [1 4 5 0 2 7 6 3]\n",
      " [6 4 1 5 2 3 7 0]]\n"
     ]
    }
   ],
   "source": [
    "# reverse/dibalik\n",
    "def crossover(population):\n",
    "    newP = population.copy()\n",
    "    (numOfIndividu,numOfCity) = population.shape\n",
    "    for i in range(numOfIndividu):\n",
    "        ind1,ind2 = np.random.randint(numOfCity),np.random.randint(numOfCity)\n",
    "        if ind1 <= ind2 :\n",
    "            temp = ind2 \n",
    "            for j in range(ind1,ind2+1):\n",
    "                newP[i,j] = population[i,temp]\n",
    "                temp-=1\n",
    "        else:\n",
    "            temp = ind1\n",
    "            for j in range(ind2,ind1+1):\n",
    "                newP[i,j] = population[i,temp]\n",
    "                temp-=1\n",
    "    return newP\n",
    " \n",
    "print(newPop)\n",
    "populasi = crossover(newPop)\n",
    "print(\"Hasil Crossover :\\n\",populasi)"
   ]
  },
  {
   "cell_type": "code",
   "execution_count": 9,
   "id": "6be1381d",
   "metadata": {},
   "outputs": [
    {
     "name": "stdout",
     "output_type": "stream",
     "text": [
      "[[7 2 6 3 0 4 5 1]\n",
      " [1 5 4 3 7 2 0 6]\n",
      " [7 5 4 2 6 3 0 1]\n",
      " [6 7 3 2 5 4 1 0]\n",
      " [1 4 5 0 2 7 6 3]\n",
      " [6 4 1 5 2 3 7 0]]\n",
      "Hasil Mutasi : \n",
      " [[7 2 6 0 3 4 5 1]\n",
      " [1 5 4 3 7 2 6 0]\n",
      " [7 4 5 2 6 3 0 1]\n",
      " [6 7 3 4 5 2 1 0]\n",
      " [1 7 5 0 2 4 6 3]\n",
      " [6 4 5 1 2 3 7 0]]\n"
     ]
    }
   ],
   "source": [
    "# digeser\n",
    "def mutation(population):\n",
    "    newP = population.copy()\n",
    "    (numOfIndividu,numOfCity) = population.shape\n",
    "    for i in range(numOfIndividu):\n",
    "        ind1,ind2 = np.random.randint(numOfCity),np.random.randint(numOfCity)\n",
    "        newP[i,ind1],newP[i,ind2] = newP[i,ind2],newP[i,ind1]\n",
    "    return newP\n",
    "print(populasi)\n",
    "mutasi = mutation(populasi)\n",
    "print(\"Hasil Mutasi : \\n\",mutasi)"
   ]
  },
  {
   "cell_type": "code",
   "execution_count": 10,
   "id": "6c3a60eb",
   "metadata": {},
   "outputs": [
    {
     "name": "stdout",
     "output_type": "stream",
     "text": [
      "Inisialisasi Populasi :\n",
      " [[7 2 6 3 0 4 5 1]\n",
      " [1 5 4 3 7 2 0 6]\n",
      " [7 5 4 2 6 3 0 1]\n",
      " [6 7 3 2 5 4 1 0]\n",
      " [1 4 5 0 2 7 6 3]\n",
      " [6 4 1 5 2 3 7 0]]\n",
      "Generasi-0\n",
      "Indeks hasil populasi seleksi : [4 3 0 3 3 0]\n",
      "Individu Hasil Seleksi :\n",
      " [[4 7 6 0 2 3 1 5]\n",
      " [2 4 0 7 3 6 5 1]\n",
      " [2 7 3 1 6 4 5 0]\n",
      " [2 4 0 7 3 6 5 1]\n",
      " [2 4 0 7 3 6 5 1]\n",
      " [2 7 3 1 6 4 5 0]]\n",
      "Hasil crossover :\n",
      " [[4 7 6 2 0 3 1 5]\n",
      " [7 0 4 2 3 6 5 1]\n",
      " [2 7 6 1 3 4 5 0]\n",
      " [5 6 3 7 0 4 2 1]\n",
      " [2 4 0 7 3 6 5 1]\n",
      " [2 1 3 7 6 4 5 0]]\n",
      "Hasil mutasi :\n",
      " [[4 7 6 2 0 1 3 5]\n",
      " [7 1 4 2 3 6 5 0]\n",
      " [2 7 6 1 3 5 4 0]\n",
      " [5 6 3 2 0 4 7 1]\n",
      " [2 4 0 7 3 6 1 5]\n",
      " [3 1 2 7 6 4 5 0]]\n",
      "Generasi-1\n",
      "Indeks hasil populasi seleksi : [2 5 1 2 3 2]\n",
      "Individu Hasil Seleksi :\n",
      " [[2 7 6 1 3 5 4 0]\n",
      " [3 1 2 7 6 4 5 0]\n",
      " [7 1 4 2 3 6 5 0]\n",
      " [2 7 6 1 3 5 4 0]\n",
      " [5 6 3 2 0 4 7 1]\n",
      " [2 7 6 1 3 5 4 0]]\n",
      "Hasil crossover :\n",
      " [[2 7 6 0 4 5 3 1]\n",
      " [3 1 2 7 6 4 5 0]\n",
      " [7 6 3 2 4 1 5 0]\n",
      " [2 7 6 1 3 5 4 0]\n",
      " [0 2 3 6 5 4 7 1]\n",
      " [2 7 4 5 3 1 6 0]]\n",
      "Hasil mutasi :\n",
      " [[4 7 6 0 2 5 3 1]\n",
      " [3 1 2 7 6 4 0 5]\n",
      " [7 6 5 2 4 1 3 0]\n",
      " [2 7 6 1 3 5 0 4]\n",
      " [0 1 3 6 5 4 7 2]\n",
      " [2 5 4 7 3 1 6 0]]\n"
     ]
    },
    {
     "data": {
      "text/plain": [
       "array([[4, 7, 6, 0, 2, 5, 3, 1],\n",
       "       [3, 1, 2, 7, 6, 4, 0, 5],\n",
       "       [7, 6, 5, 2, 4, 1, 3, 0],\n",
       "       [2, 7, 6, 1, 3, 5, 0, 4],\n",
       "       [0, 1, 3, 6, 5, 4, 7, 2],\n",
       "       [2, 5, 4, 7, 3, 1, 6, 0]])"
      ]
     },
     "execution_count": 10,
     "metadata": {},
     "output_type": "execute_result"
    }
   ],
   "source": [
    "def geneticAlgoritm(numOfPopulation,numOfCity,generation):\n",
    "    (population,location) = generatePopulation(numOfPopulation,numOfCity)\n",
    "    print(\"Inisialisasi Populasi :\\n\",populasi)\n",
    "    for i in range(generation):\n",
    "        print(f\"Generasi-{i}\")\n",
    "        nilaiFitness = calculateFitness(population,location)\n",
    "        newInd = selection(nilaiFitness)\n",
    "        print(\"Indeks hasil populasi seleksi :\",newInd)\n",
    "        population = newPopulation(newInd,population)\n",
    "        print(\"Individu Hasil Seleksi :\\n\",population)\n",
    "        population = crossover(population)\n",
    "        print(\"Hasil crossover :\\n\",population)\n",
    "        population = mutation(population)\n",
    "        print(\"Hasil mutasi :\\n\",population)\n",
    "    return population\n",
    "    \n",
    "geneticAlgoritm(6,8,2)"
   ]
  },
  {
   "cell_type": "code",
   "execution_count": 19,
   "id": "54345764",
   "metadata": {},
   "outputs": [
    {
     "name": "stdout",
     "output_type": "stream",
     "text": [
      "Inisialisasi Populasi :\n",
      " (6, 8)\n",
      "Inisialisasi Populasi :\n",
      " (6, 8)\n",
      "Generasi-0\n"
     ]
    },
    {
     "ename": "IndexError",
     "evalue": "index 9 is out of bounds for axis 0 with size 8",
     "output_type": "error",
     "traceback": [
      "\u001b[1;31m---------------------------------------------------------------------------\u001b[0m",
      "\u001b[1;31mIndexError\u001b[0m                                Traceback (most recent call last)",
      "Cell \u001b[1;32mIn[19], line 43\u001b[0m\n\u001b[0;32m     39\u001b[0m         population[numOfPopulation\u001b[38;5;241m/\u001b[39m\u001b[38;5;241m/\u001b[39m\u001b[38;5;241m2\u001b[39m:numOfPopulation] \u001b[38;5;241m=\u001b[39m populationNew[\u001b[38;5;241m0\u001b[39m:numOfPopulation\u001b[38;5;241m/\u001b[39m\u001b[38;5;241m/\u001b[39m\u001b[38;5;241m2\u001b[39m]\n\u001b[0;32m     41\u001b[0m         \u001b[38;5;28mprint\u001b[39m(\u001b[38;5;124m\"\u001b[39m\u001b[38;5;124mElitist = \u001b[39m\u001b[38;5;130;01m\\n\u001b[39;00m\u001b[38;5;124m\"\u001b[39m,population)\n\u001b[1;32m---> 43\u001b[0m GAwithElitist(\u001b[38;5;241m6\u001b[39m,\u001b[38;5;241m8\u001b[39m,\u001b[38;5;241m2\u001b[39m)\n",
      "Cell \u001b[1;32mIn[19], line 17\u001b[0m, in \u001b[0;36mGAwithElitist\u001b[1;34m(numOfPopulation, numOfCity, generation)\u001b[0m\n\u001b[0;32m     15\u001b[0m \u001b[38;5;66;03m# algoritma genetik\u001b[39;00m\n\u001b[0;32m     16\u001b[0m oldPopulation \u001b[38;5;241m=\u001b[39m population\u001b[38;5;241m.\u001b[39mcopy()\n\u001b[1;32m---> 17\u001b[0m nilaiFitness \u001b[38;5;241m=\u001b[39m calculateFitness(population,location)\n\u001b[0;32m     18\u001b[0m maxFitness \u001b[38;5;241m=\u001b[39m np\u001b[38;5;241m.\u001b[39mmax(nilaiFitness)\n\u001b[0;32m     19\u001b[0m newInd \u001b[38;5;241m=\u001b[39m selection(nilaiFitness)\n",
      "Cell \u001b[1;32mIn[5], line 7\u001b[0m, in \u001b[0;36mcalculateFitness\u001b[1;34m(population, coordinat)\u001b[0m\n\u001b[0;32m      5\u001b[0m     jarak\u001b[38;5;241m=\u001b[39m\u001b[38;5;241m0.0\u001b[39m\n\u001b[0;32m      6\u001b[0m     \u001b[38;5;28;01mfor\u001b[39;00m j \u001b[38;5;129;01min\u001b[39;00m \u001b[38;5;28mrange\u001b[39m(numOfCity\u001b[38;5;241m-\u001b[39m\u001b[38;5;241m1\u001b[39m):\n\u001b[1;32m----> 7\u001b[0m         jarak \u001b[38;5;241m+\u001b[39m\u001b[38;5;241m=\u001b[39m np\u001b[38;5;241m.\u001b[39msqrt(\u001b[38;5;28msum\u001b[39m((coordinat[population[i,j]]\u001b[38;5;241m-\u001b[39mcoordinat[population[i,j\u001b[38;5;241m+\u001b[39m\u001b[38;5;241m1\u001b[39m]])\u001b[38;5;241m*\u001b[39m\u001b[38;5;241m*\u001b[39m\u001b[38;5;241m2\u001b[39m))\n\u001b[0;32m      8\u001b[0m     fitness[i] \u001b[38;5;241m=\u001b[39m \u001b[38;5;241m1\u001b[39m\u001b[38;5;241m/\u001b[39mjarak\n\u001b[0;32m      9\u001b[0m \u001b[38;5;28;01mreturn\u001b[39;00m fitness\n",
      "\u001b[1;31mIndexError\u001b[0m: index 9 is out of bounds for axis 0 with size 8"
     ]
    }
   ],
   "source": [
    "def GAwithElitist(numOfPopulation,numOfCity,generation):\n",
    "#     (population,location) = generatePopulation(numOfPopulation,numOfCity)\n",
    "#     print(\"Inisialisasi Populasi :\\n\",population.shape)\n",
    "    population = np.array([\n",
    "        [5,1,4,7,2,3,6,0],\n",
    "        [6,5,0,2,1,3,4,7],\n",
    "        [5,6,1,4,2,3,7,9],\n",
    "        [6,3,2,1,4,7,0,5],\n",
    "        [7,6,2,4,0,5,1,3],\n",
    "        [2,6,3,1,5,4,0,7]\n",
    "    ])\n",
    "    print(\"Inisialisasi Populasi :\\n\",population.shape)\n",
    "    for i in range(generation):\n",
    "        print(f\"Generasi-{i}\")\n",
    "        # algoritma genetik\n",
    "        oldPopulation = population.copy()\n",
    "        nilaiFitness = calculateFitness(population,location)\n",
    "        maxFitness = np.max(nilaiFitness)\n",
    "        newInd = selection(nilaiFitness)\n",
    "        population = newPopulation(newInd,population)\n",
    "        population = crossover(population)\n",
    "        population = mutation(population)\n",
    "        \n",
    "        #elitist strategy\n",
    "        nilaiFitnessOld = calculateFitness(population,location)\n",
    "        indOld = np.argsort(-nilaiFitnessOld)\n",
    "        nilaiFitnessNew = calculateFitness(population,location)\n",
    "        indNew = np.argsort(-nilaiFitnessNew)\n",
    "        \n",
    "        populationOld = newPopulation(indOld[0:numOfPopulation//2],oldPopulation)\n",
    "        populationNew = newPopulation(indNew[0:numOfPopulation//2],population)\n",
    "        \n",
    "        print(\"Populasi lama = \\n\",populationOld)\n",
    "        print(\"Fitness lama = \\n\",nilaiFitnessOld)\n",
    "        print(\"Populasi baru = \\n\",populationNew)\n",
    "        print(\"Fitness baru = \\n\",nilaiFitnessNew)\n",
    "        \n",
    "        population[0:numOfPopulation//2] = populationOld[0:numOfPopulation//2]\n",
    "        population[numOfPopulation//2:numOfPopulation] = populationNew[0:numOfPopulation//2]\n",
    "        \n",
    "        print(\"Elitist = \\n\",population)\n",
    "        \n",
    "GAwithElitist(6,8,2)"
   ]
  }
 ],
 "metadata": {
  "kernelspec": {
   "display_name": "Python 3 (ipykernel)",
   "language": "python",
   "name": "python3"
  },
  "language_info": {
   "codemirror_mode": {
    "name": "ipython",
    "version": 3
   },
   "file_extension": ".py",
   "mimetype": "text/x-python",
   "name": "python",
   "nbconvert_exporter": "python",
   "pygments_lexer": "ipython3",
   "version": "3.11.4"
  }
 },
 "nbformat": 4,
 "nbformat_minor": 5
}
