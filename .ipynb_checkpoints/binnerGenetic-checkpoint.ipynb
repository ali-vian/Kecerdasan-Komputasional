{
 "cells": [
  {
   "cell_type": "code",
   "execution_count": 37,
   "id": "ab6308c0",
   "metadata": {},
   "outputs": [],
   "source": [
    "import numpy as np \n",
    "x = [5,-10,4,-20,0,11]"
   ]
  },
  {
   "cell_type": "code",
   "execution_count": 45,
   "id": "1ab56863",
   "metadata": {},
   "outputs": [
    {
     "name": "stdout",
     "output_type": "stream",
     "text": [
      "[-45, -45, -31, -295, 5, -171]\n",
      "-582\n",
      "[251 251 265   1 301 125]\n",
      "1194\n",
      "[0.21021776 0.21021776 0.22194305 0.00083752 0.2520938  0.10469012]\n"
     ]
    }
   ],
   "source": [
    "# y = -x**2-5x+5\n",
    "popoulasi = [\n",
    "             [1,0,0,1,0,1],\n",
    "             [0,0,1,0,1,0],\n",
    "             [1,0,0,1,0,0],\n",
    "             [0,1,0,1,0,0],\n",
    "             [1,0,0,0,0,0],\n",
    "             [1,0,1,0,1,1]\n",
    "            ]\n",
    "\n",
    "def fitness(x):\n",
    "    return -x**2-5*x+5\n",
    "\n",
    "temp = []\n",
    "for i in x :\n",
    "    temp.append(fitness(i))\n",
    "print(temp)\n",
    "sum(temp)\n",
    "\n",
    "temp = np.array(temp)\n",
    "print(sum(temp))\n",
    "temp = temp+296 #kerena negatif maka ditambah nilai terkecil dan (di tambah epsilon 1) agar probabilitas tidak 0\n",
    "print(temp)\n",
    "print(sum(temp))\n",
    "prob = temp/sum(temp)\n",
    "print(prob)"
   ]
  },
  {
   "cell_type": "code",
   "execution_count": null,
   "id": "1120af79",
   "metadata": {},
   "outputs": [],
   "source": [
    "# setelah menentuakn ruang dan mendapatkan nilai dari percobaan \n",
    "# selanjutnya dilakukan crossover dengan menukar nilai berpasangan dengan index acak"
   ]
  },
  {
   "cell_type": "code",
   "execution_count": 46,
   "id": "68c37e4f",
   "metadata": {},
   "outputs": [],
   "source": [
    "# elitist strategy = menjaga kromosom yang memiliki nilai fitness tinggi"
   ]
  }
 ],
 "metadata": {
  "kernelspec": {
   "display_name": "Python 3 (ipykernel)",
   "language": "python",
   "name": "python3"
  },
  "language_info": {
   "codemirror_mode": {
    "name": "ipython",
    "version": 3
   },
   "file_extension": ".py",
   "mimetype": "text/x-python",
   "name": "python",
   "nbconvert_exporter": "python",
   "pygments_lexer": "ipython3",
   "version": "3.11.4"
  }
 },
 "nbformat": 4,
 "nbformat_minor": 5
}
