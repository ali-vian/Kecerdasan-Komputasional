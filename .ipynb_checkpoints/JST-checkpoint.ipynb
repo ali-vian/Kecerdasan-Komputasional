{
 "cells": [
  {
   "cell_type": "markdown",
   "id": "325356d9",
   "metadata": {},
   "source": [
    "- Neuron : unit terkecil dari jaringan syaraf yang berfungsi memproses informasi dan sinyal input\n",
    "- Fungsi Aktivasi : fungsi yang memproses sinyal input (net input) di neuron, nilai inlilah yang akan menjadi output neuron\n",
    "- Peceptron : bentuk JST yang sederhana yang hanya memiliki saatu lapisan saja (single layer)"
   ]
  },
  {
   "cell_type": "markdown",
   "id": "c8a5def9",
   "metadata": {},
   "source": [
    "JST bertujuan untuk mengidentifikasi perbedaan suatu objek dengan objek lainnnya\n",
    "\n",
    "### Preparation:\n",
    "- inisialisasi bobot\n",
    "- Data training (pasanagn sinyal input dan output)\n",
    "### Proses perceptron training untuk setiap data\n",
    "- hitung net input (kalikan bobot[i] dengan data[i])\n",
    "- masukkan nilai net ke fungsi aktivasi\n",
    "- update bobot jika tdak sesuai target\n",
    "  - jika terdapat kesalahan, maka update bobot. Bisa diperbesar atau dperkecil agar mendekati target.\n",
    "- jika didapatkan hasil, tetapkan bobot sebagai model\n",
    "### Proses testing\n",
    "- lakukan hal yang sama, tetapkan output sebagai hasil akhir akurasi\n",
    "### BIAS:\n",
    "- tambahkan input x0 dengan nilai x0=1. Bobot random"
   ]
  },
  {
   "cell_type": "code",
   "execution_count": 1,
   "id": "ac08c280",
   "metadata": {},
   "outputs": [],
   "source": [
    "import numpy as np\n",
    "def nilaiAktivasi(x,w):\n",
    "    print(x,w)\n",
    "    net = x.dot(w)\n",
    "    if net >= 0 :\n",
    "        out = 1\n",
    "    else:\n",
    "        out = 0\n",
    "    return out"
   ]
  },
  {
   "cell_type": "code",
   "execution_count": 9,
   "id": "c0bdfe09",
   "metadata": {
    "scrolled": false
   },
   "outputs": [
    {
     "name": "stdout",
     "output_type": "stream",
     "text": [
      "[1 1 1] [0.1, 0.2, 0.3]\n",
      "[1 1 0] [-0.9, -0.8, -0.7]\n",
      "[1 0 1] [0.09999999999999998, 0.19999999999999996, -0.7]\n",
      "[1 0 0] [0.09999999999999998, 0.19999999999999996, -0.7]\n",
      "[1 1 1] [-0.9, 0.19999999999999996, -0.7]\n",
      "[1 1 0] [-0.9, 0.19999999999999996, -0.7]\n",
      "[1 0 1] [0.09999999999999998, 1.2, -0.7]\n",
      "[1 0 0] [0.09999999999999998, 1.2, -0.7]\n",
      "[1 1 1] [-0.9, 1.2, -0.7]\n",
      "[1 1 0] [-0.9, 1.2, -0.7]\n",
      "[1 0 1] [-0.9, 1.2, -0.7]\n",
      "[1 0 0] [-0.9, 1.2, -0.7]\n",
      "[1 1 1] [-0.9, 1.2, -0.7]\n",
      "[1 1 0] [-0.9, 1.2, -0.7]\n",
      "[1 0 1] [-0.9, 1.2, -0.7]\n",
      "[1 0 0] [-0.9, 1.2, -0.7]\n",
      "[1 1 1] [-0.9, 1.2, -0.7]\n",
      "[1 1 0] [-0.9, 1.2, -0.7]\n",
      "[1 0 1] [-0.9, 1.2, -0.7]\n",
      "[1 0 0] [-0.9, 1.2, -0.7]\n",
      "w and not 1 =  [-0.9, 1.2, -0.7]\n",
      "[1 1 1] [0.1, 0.2, 0.3]\n",
      "[1 1 0] [-0.9, -0.8, -0.7]\n",
      "[1 0 1] [-0.9, -0.8, -0.7]\n",
      "[1 0 0] [0.09999999999999998, -0.8, 0.30000000000000004]\n",
      "[1 1 1] [-0.9, -0.8, 0.30000000000000004]\n",
      "[1 1 0] [-0.9, -0.8, 0.30000000000000004]\n",
      "[1 0 1] [-0.9, -0.8, 0.30000000000000004]\n",
      "[1 0 0] [0.09999999999999998, -0.8, 1.3]\n",
      "[1 1 1] [-0.9, -0.8, 1.3]\n",
      "[1 1 0] [-0.9, -0.8, 1.3]\n",
      "[1 0 1] [-0.9, -0.8, 1.3]\n",
      "[1 0 0] [-0.9, -0.8, 1.3]\n",
      "[1 1 1] [-0.9, -0.8, 1.3]\n",
      "[1 1 0] [-0.9, -0.8, 1.3]\n",
      "[1 0 1] [-0.9, -0.8, 1.3]\n",
      "[1 0 0] [-0.9, -0.8, 1.3]\n",
      "[1 1 1] [-0.9, -0.8, 1.3]\n",
      "[1 1 0] [-0.9, -0.8, 1.3]\n",
      "[1 0 1] [-0.9, -0.8, 1.3]\n",
      "[1 0 0] [-0.9, -0.8, 1.3]\n",
      "w and not 2 =  [-0.9, -0.8, 1.3]\n",
      "[1 1 1] [0.1, 0.2, 0.3]\n",
      "[1 1 0] [0.1, 0.2, 0.3]\n",
      "[1 0 1] [0.1, 0.2, 0.3]\n",
      "[1 0 0] [0.1, 0.2, 0.3]\n",
      "[1 1 1] [-0.9, 0.2, 0.3]\n",
      "[1 1 0] [0.09999999999999998, 1.2, 1.3]\n",
      "[1 0 1] [0.09999999999999998, 1.2, 1.3]\n",
      "[1 0 0] [0.09999999999999998, 1.2, 1.3]\n",
      "[1 1 1] [-0.9, 1.2, 1.3]\n",
      "[1 1 0] [-0.9, 1.2, 1.3]\n",
      "[1 0 1] [-0.9, 1.2, 1.3]\n",
      "[1 0 0] [-0.9, 1.2, 1.3]\n",
      "[1 1 1] [-0.9, 1.2, 1.3]\n",
      "[1 1 0] [-0.9, 1.2, 1.3]\n",
      "[1 0 1] [-0.9, 1.2, 1.3]\n",
      "[1 0 0] [-0.9, 1.2, 1.3]\n",
      "[1 1 1] [-0.9, 1.2, 1.3]\n",
      "[1 1 0] [-0.9, 1.2, 1.3]\n",
      "[1 0 1] [-0.9, 1.2, 1.3]\n",
      "[1 0 0] [-0.9, 1.2, 1.3]\n",
      "w and not 3 =  [-0.9, 1.2, 1.3]\n"
     ]
    }
   ],
   "source": [
    "def train(data,epoch,target,w):\n",
    "    w = w.copy()\n",
    "    if w is None:\n",
    "        w = np.random.rand(3)\n",
    "\n",
    "    for i in range(epoch):\n",
    "        for j in range(len(data)):\n",
    "            out = nilaiAktivasi(data[j],w)\n",
    "            if out > target[j]:\n",
    "                for k in range(len(w)):\n",
    "                    w[k] -= data[j][k]\n",
    "            elif out < target[j] :\n",
    "                for k in range(len(w)):\n",
    "                    w[k] += data[j][k]\n",
    "    return w\n",
    "\n",
    "\n",
    "            \n",
    "data = np.array([[1,1,1],[1,1,0],[1,0,1],[1,0,0]])\n",
    "\n",
    "targetAnd = np.array([1,0,0,0])\n",
    "targetOr = np.array([1,1,1,0])\n",
    "targetAndNot1=np.array([0,1,0,0])\n",
    "targetAndNot2=np.array([0,0,1,0])\n",
    "targetXor = np.array([0,1,1,0])\n",
    "\n",
    "weight = [0.1,0.2,0.3]\n",
    "model = train(data,5,targetAndNot1,weight)\n",
    "print(\"w and not 1 = \",model)\n",
    "model2 = train(data,5,targetAndNot2,weight)\n",
    "print(\"w and not 2 = \",model2)\n",
    "model3 = train(data,5,targetOr,weight)\n",
    "print(\"w and not 3 = \",model3)"
   ]
  },
  {
   "cell_type": "code",
   "execution_count": 14,
   "id": "cec3cbd3",
   "metadata": {},
   "outputs": [
    {
     "name": "stdout",
     "output_type": "stream",
     "text": [
      "[1 0 0] [-0.9, 1.2, 1.3]\n"
     ]
    },
    {
     "data": {
      "text/plain": [
       "0"
      ]
     },
     "execution_count": 14,
     "metadata": {},
     "output_type": "execute_result"
    }
   ],
   "source": [
    "def test(inp,model):\n",
    "    inp.insert(0,1)\n",
    "    inp = np.array(inp)\n",
    "    return nilaiAktivasi(inp,model)\n",
    "\n",
    "test([0,0],model3)"
   ]
  },
  {
   "cell_type": "code",
   "execution_count": 15,
   "id": "3d0e74c0",
   "metadata": {},
   "outputs": [],
   "source": [
    "#Fungsi Aktivasi\n",
    "def sigmoidFn(x):\n",
    "    return 1/(1+np.exp(-x))"
   ]
  },
  {
   "cell_type": "code",
   "execution_count": 21,
   "id": "dcb5a3b3",
   "metadata": {},
   "outputs": [
    {
     "name": "stdout",
     "output_type": "stream",
     "text": [
      "NetInput Hidden= [1.72 3.15 2.7 ]\n",
      "OutputHidden= [0.84812884 0.95890872 0.93702664]\n"
     ]
    }
   ],
   "source": [
    "inp=np.array([1,5.1,3.5,1.4,0.2])\n",
    "# jumlah input = len(w)\n",
    "# jumlah hidden layer = len(w[0])\n",
    "w=np.array([[0.1,0.3,0.4],[0.2,0.4,0.15],[0.1,0.1,0.25],[0.15,0.3,0.4],[0.2,0.2,0.5]])\n",
    "net_y=inp.dot(w)\n",
    "print('NetInput Hidden=',net_y)\n",
    "y=sigmoidFn(net_y)\n",
    "print('OutputHidden=',y)"
   ]
  },
  {
   "cell_type": "code",
   "execution_count": 20,
   "id": "d9a8b0f2",
   "metadata": {},
   "outputs": [
    {
     "name": "stdout",
     "output_type": "stream",
     "text": [
      "dataHidden= [[1. 1. 1. 1.]]\n",
      "dataHidden= [[1.         0.84812884 0.95890872 0.93702664]]\n",
      "NetInput Output= [[0.81310797 0.94729616]]\n",
      "Output= [[0.6927714  0.72057109]]\n"
     ]
    }
   ],
   "source": [
    "dataHidden=np.ones((1,4)) #inisialisasi\n",
    "dataHidden[0,1:]=y #memasukkan y dan menambahkan bias\n",
    "print(\"dataHidden=\",dataHidden)\n",
    "v=np.array([[0.3,0.2],[0.05,0.1],[0.1,0.3],[0.4,0.4]])\n",
    "\n",
    "net_O=dataHidden.dot(v)\n",
    "o=sigmoidFn(net_O)\n",
    "print('NetInput Output=',net_O)\n",
    "print('Output=',o)"
   ]
  },
  {
   "cell_type": "code",
   "execution_count": null,
   "id": "ce5e7643",
   "metadata": {},
   "outputs": [],
   "source": []
  },
  {
   "cell_type": "code",
   "execution_count": 28,
   "id": "631e4d6b",
   "metadata": {},
   "outputs": [
    {
     "name": "stdout",
     "output_type": "stream",
     "text": [
      "Output= [[0.6927714  0.72057109]]\n"
     ]
    }
   ],
   "source": [
    "import numpy as np\n",
    "\n",
    "def sigmoidFn(x):\n",
    "    return 1 / (1 + np.exp(-x))\n",
    "\n",
    "def feedforward(inputData, inputWeight, hiddenWeight):\n",
    "    \n",
    "    netHidden = inputData.dot(inputWeight)\n",
    "    hiddenOutput = sigmoidFn(netHidden)\n",
    "    \n",
    "    hiddenData = np.ones((1, hiddenOutput.shape[0] + 1))\n",
    "    hiddenData[0, 1:] = hiddenOutput\n",
    "    \n",
    "    netOutput = hiddenData.dot(hiddenWeight)\n",
    "    output = sigmoidFn(netOutput)\n",
    "    \n",
    "    return output\n",
    "\n",
    "\n",
    "inp = np.array([1, 5.1, 3.5, 1.4, 0.2])\n",
    "input_w = np.array([[0.1, 0.3, 0.4], [0.2, 0.4, 0.15], [0.1, 0.1, 0.25], [0.15, 0.3, 0.4], [0.2, 0.2, 0.5]])\n",
    "hidden_w = np.array([[0.3, 0.2], [0.05, 0.1], [0.1, 0.3], [0.4, 0.4]])\n",
    "output = feedforward(inp, input_w, hidden_w)\n",
    "\n",
    "print('Output=', output)\n"
   ]
  }
 ],
 "metadata": {
  "kernelspec": {
   "display_name": "Python 3 (ipykernel)",
   "language": "python",
   "name": "python3"
  },
  "language_info": {
   "codemirror_mode": {
    "name": "ipython",
    "version": 3
   },
   "file_extension": ".py",
   "mimetype": "text/x-python",
   "name": "python",
   "nbconvert_exporter": "python",
   "pygments_lexer": "ipython3",
   "version": "3.11.4"
  }
 },
 "nbformat": 4,
 "nbformat_minor": 5
}
