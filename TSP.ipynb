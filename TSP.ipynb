{
 "cells": [
  {
   "cell_type": "code",
   "execution_count": 2,
   "id": "9d858c96",
   "metadata": {},
   "outputs": [],
   "source": [
    "import numpy as np"
   ]
  },
  {
   "cell_type": "code",
   "execution_count": 3,
   "id": "6b0dc67f",
   "metadata": {},
   "outputs": [
    {
     "name": "stdout",
     "output_type": "stream",
     "text": [
      "[[18 18]\n",
      " [17 15]\n",
      " [16 13]\n",
      " [ 5 10]\n",
      " [ 1  9]\n",
      " [13 12]]\n"
     ]
    }
   ],
   "source": [
    "def generateKoordinatCity(numOfCity):\n",
    "    temp = np.zeros([numOfCity,2],dtype=int)\n",
    "    count = 0\n",
    "    while count < numOfCity :\n",
    "        x,y = np.random.randint(20),np.random.randint(20)\n",
    "        if [x,y] not in temp :\n",
    "            temp[count]=[x,y]\n",
    "            count+=1\n",
    "    return temp\n",
    "    \n",
    "print(generateKoordinatCity(6))"
   ]
  },
  {
   "cell_type": "code",
   "execution_count": 4,
   "id": "864be5e6",
   "metadata": {},
   "outputs": [
    {
     "name": "stdout",
     "output_type": "stream",
     "text": [
      "[5 3 0 2 4 1]\n"
     ]
    }
   ],
   "source": [
    "def generateIndividu(numOfCity):\n",
    "    ind = np.zeros(numOfCity,dtype=int)-1\n",
    "    count = 0\n",
    "    while count < numOfCity:\n",
    "        temp = np.random.randint(numOfCity)\n",
    "        if temp not in ind :\n",
    "            ind[count] = temp\n",
    "            count += 1\n",
    "    return ind \n",
    "\n",
    "print(generateIndividu(6))"
   ]
  },
  {
   "cell_type": "code",
   "execution_count": 5,
   "id": "6c6cd2fa",
   "metadata": {},
   "outputs": [
    {
     "name": "stdout",
     "output_type": "stream",
     "text": [
      "Populasi = \n",
      " [[3 2 5 4 0 6 1 7]\n",
      " [3 0 6 2 1 4 7 5]\n",
      " [3 7 2 5 6 0 4 1]\n",
      " [5 4 0 3 6 1 7 2]\n",
      " [2 1 7 4 0 5 6 3]\n",
      " [0 2 1 5 7 4 3 6]]\n",
      "Koordinat Kota = \n",
      " [[10  3]\n",
      " [19 17]\n",
      " [16 16]\n",
      " [12  7]\n",
      " [13  8]\n",
      " [11  9]\n",
      " [ 4 14]\n",
      " [15 18]]\n"
     ]
    }
   ],
   "source": [
    "def generatePopulation(individu,numOfCity):\n",
    "    population = np.zeros([individu,numOfCity],dtype=int)\n",
    "    for i in range(individu):\n",
    "        population[i] =  generateIndividu(numOfCity)\n",
    "    location = generateKoordinatCity(numOfCity)\n",
    "    return population,location\n",
    "\n",
    "population,location = generatePopulation(6,8)\n",
    "print(\"Populasi = \\n\",population)\n",
    "print(\"Koordinat Kota = \\n\",location)"
   ]
  },
  {
   "cell_type": "code",
   "execution_count": 6,
   "id": "b2e44a43",
   "metadata": {},
   "outputs": [
    {
     "name": "stdout",
     "output_type": "stream",
     "text": [
      "Populasi = \n",
      " [[3 2 5 4 0 6 1 7]\n",
      " [3 0 6 2 1 4 7 5]\n",
      " [3 7 2 5 6 0 4 1]\n",
      " [5 4 0 3 6 1 7 2]\n",
      " [2 1 7 4 0 5 6 3]\n",
      " [0 2 1 5 7 4 3 6]]\n",
      "Koordinat Kota = \n",
      " [[10  3]\n",
      " [19 17]\n",
      " [16 16]\n",
      " [12  7]\n",
      " [13  8]\n",
      " [11  9]\n",
      " [ 4 14]\n",
      " [15 18]]\n",
      "[0.01710328 0.01582442 0.0166611  0.02230871 0.0205636  0.01642439]\n"
     ]
    }
   ],
   "source": [
    "def calculateFitness(population,coordinat):\n",
    "    (numOfIndividu,numOfCity) = population.shape\n",
    "    fitness = np.zeros(numOfIndividu)\n",
    "    for i in range(numOfIndividu):\n",
    "        jarak=0.0\n",
    "        for j in range(numOfCity-1):\n",
    "            jarak += np.sqrt(sum((coordinat[population[i,j]]-coordinat[population[i,j+1]])**2))\n",
    "        fitness[i] = 1/jarak\n",
    "    return fitness\n",
    "\n",
    "# population = np.array([[1,4,0,3,2],[2,1,3,4,0],[1,3,2,4,0],[0,4,1,2,3]])\n",
    "# location = np.array([[2,3],[4,7],[9,0],[10,8],[16,5]])\n",
    "print(\"Populasi = \\n\",population)\n",
    "print(\"Koordinat Kota = \\n\",location)\n",
    "fitness = calculateFitness(population,location)\n",
    "print(fitness)"
   ]
  },
  {
   "cell_type": "code",
   "execution_count": 7,
   "id": "9d979a90",
   "metadata": {},
   "outputs": [
    {
     "name": "stdout",
     "output_type": "stream",
     "text": [
      "[5 3 1 1 0 3]\n"
     ]
    }
   ],
   "source": [
    "def selection(fitness):\n",
    "    \n",
    "    totalFitness = np.sum(fitness)\n",
    "    \n",
    "    probIndividu = fitness/totalFitness\n",
    "    sizeIndividu= len(fitness)\n",
    "    \n",
    "    komulatif = np.zeros(sizeIndividu+1)\n",
    "    for i in range(sizeIndividu):\n",
    "        komulatif[i+1] = komulatif[i]+probIndividu[i]\n",
    "    \n",
    "    count=0\n",
    "    newProb = np.zeros(sizeIndividu,dtype=int)\n",
    "    for j in range(sizeIndividu):\n",
    "        roulette = np.random.rand(1)\n",
    "        for i in range(sizeIndividu+1):\n",
    "            if roulette>komulatif[i] and roulette <= komulatif[i+1]:\n",
    "                newProb[count]=i\n",
    "        count+=1\n",
    "    return newProb\n",
    "\n",
    "\n",
    "idx = selection(fitness)\n",
    "\n",
    "print(idx)"
   ]
  },
  {
   "cell_type": "code",
   "execution_count": 8,
   "id": "a537d2b2",
   "metadata": {},
   "outputs": [
    {
     "name": "stdout",
     "output_type": "stream",
     "text": [
      "[[3 2 5 4 0 6 1 7]\n",
      " [3 0 6 2 1 4 7 5]\n",
      " [3 7 2 5 6 0 4 1]\n",
      " [5 4 0 3 6 1 7 2]\n",
      " [2 1 7 4 0 5 6 3]\n",
      " [0 2 1 5 7 4 3 6]]\n",
      "New Populasi dari hasil seleksi:\n",
      " [[0 2 1 5 7 4 3 6]\n",
      " [5 4 0 3 6 1 7 2]\n",
      " [3 0 6 2 1 4 7 5]\n",
      " [3 0 6 2 1 4 7 5]\n",
      " [3 2 5 4 0 6 1 7]\n",
      " [5 4 0 3 6 1 7 2]]\n"
     ]
    }
   ],
   "source": [
    "def newPopulation(idx,population):\n",
    "    newP = np.zeros_like(population)\n",
    "    for i in range(len(idx)):\n",
    "        newP[i] = population[idx[i]]\n",
    "    return newP\n",
    "newPop = newPopulation(idx,population)\n",
    "print(population)\n",
    "print(\"New Populasi dari hasil seleksi:\\n\",newPop)"
   ]
  },
  {
   "cell_type": "code",
   "execution_count": 9,
   "id": "4a1dda11",
   "metadata": {},
   "outputs": [
    {
     "name": "stdout",
     "output_type": "stream",
     "text": [
      "[[0 2 1 5 7 4 3 6]\n",
      " [5 4 0 3 6 1 7 2]\n",
      " [3 0 6 2 1 4 7 5]\n",
      " [3 0 6 2 1 4 7 5]\n",
      " [3 2 5 4 0 6 1 7]\n",
      " [5 4 0 3 6 1 7 2]]\n",
      "Hasil Crossover :\n",
      " [[0 2 4 7 5 1 3 6]\n",
      " [3 0 4 5 6 1 7 2]\n",
      " [3 0 6 5 7 4 1 2]\n",
      " [6 0 3 2 1 4 7 5]\n",
      " [5 2 3 4 0 6 1 7]\n",
      " [5 4 0 3 6 1 7 2]]\n"
     ]
    }
   ],
   "source": [
    "def crossover(population):\n",
    "    newP = population.copy()\n",
    "    (numOfIndividu,numOfCity) = population.shape\n",
    "    for i in range(numOfIndividu):\n",
    "        ind1,ind2 = np.random.randint(numOfCity),np.random.randint(numOfCity)\n",
    "        if ind1 <= ind2 :\n",
    "            temp = ind2 \n",
    "            for j in range(ind1,ind2+1):\n",
    "                newP[i,j] = population[i,temp]\n",
    "                temp-=1\n",
    "        else:\n",
    "            temp = ind1\n",
    "            for j in range(ind2,ind1+1):\n",
    "                newP[i,j] = population[i,temp]\n",
    "                temp-=1\n",
    "    return newP\n",
    " \n",
    "print(newPop)\n",
    "populasi = crossover(newPop)\n",
    "print(\"Hasil Crossover :\\n\",populasi)"
   ]
  },
  {
   "cell_type": "code",
   "execution_count": 10,
   "id": "6be1381d",
   "metadata": {},
   "outputs": [
    {
     "name": "stdout",
     "output_type": "stream",
     "text": [
      "[[0 2 4 7 5 1 3 6]\n",
      " [3 0 4 5 6 1 7 2]\n",
      " [3 0 6 5 7 4 1 2]\n",
      " [6 0 3 2 1 4 7 5]\n",
      " [5 2 3 4 0 6 1 7]\n",
      " [5 4 0 3 6 1 7 2]]\n",
      "Hasil Mutasi : \n",
      " [[0 2 7 4 5 1 3 6]\n",
      " [5 0 4 3 6 1 7 2]\n",
      " [3 4 6 5 7 0 1 2]\n",
      " [6 0 3 2 1 4 7 5]\n",
      " [5 2 3 0 4 6 1 7]\n",
      " [5 4 0 6 3 1 7 2]]\n"
     ]
    }
   ],
   "source": [
    "def mutation(population):\n",
    "    newP = population.copy()\n",
    "    (numOfIndividu,numOfCity) = population.shape\n",
    "    for i in range(numOfIndividu):\n",
    "        ind1,ind2 = np.random.randint(numOfCity),np.random.randint(numOfCity)\n",
    "        newP[i,ind1],newP[i,ind2] = newP[i,ind2],newP[i,ind1]\n",
    "    return newP\n",
    "print(populasi)\n",
    "mutasi = mutation(populasi)\n",
    "print(\"Hasil Mutasi : \\n\",mutasi)"
   ]
  },
  {
   "cell_type": "code",
   "execution_count": 13,
   "id": "6c3a60eb",
   "metadata": {},
   "outputs": [
    {
     "name": "stdout",
     "output_type": "stream",
     "text": [
      "Inisialisasi Populasi :\n",
      " [[0 2 4 7 5 1 3 6]\n",
      " [3 0 4 5 6 1 7 2]\n",
      " [3 0 6 5 7 4 1 2]\n",
      " [6 0 3 2 1 4 7 5]\n",
      " [5 2 3 4 0 6 1 7]\n",
      " [5 4 0 3 6 1 7 2]]\n",
      "Generasi-0\n",
      "Indeks hasil populasi seleksi : [3 2 0 5 4 0]\n",
      "Individu Hasil Seleksi :\n",
      " [[4 0 3 1 2 7 5 6]\n",
      " [5 6 2 7 4 3 1 0]\n",
      " [0 3 6 1 2 7 4 5]\n",
      " [4 0 2 3 7 1 6 5]\n",
      " [0 7 5 4 6 2 1 3]\n",
      " [0 3 6 1 2 7 4 5]]\n",
      "Hasil crossover :\n",
      " [[4 6 5 7 2 1 3 0]\n",
      " [5 6 2 7 4 3 1 0]\n",
      " [0 3 4 7 2 1 6 5]\n",
      " [4 0 2 3 6 1 7 5]\n",
      " [0 7 3 1 2 6 4 5]\n",
      " [0 3 6 7 2 1 4 5]]\n",
      "Hasil mutasi :\n",
      " [[6 4 5 7 2 1 3 0]\n",
      " [5 2 6 7 4 3 1 0]\n",
      " [0 3 1 7 2 4 6 5]\n",
      " [4 0 5 3 6 1 7 2]\n",
      " [0 7 3 5 2 6 4 1]\n",
      " [0 3 6 7 2 1 4 5]]\n",
      "Generasi-1\n",
      "Indeks hasil populasi seleksi : [2 0 1 5 0 5]\n",
      "Individu Hasil Seleksi :\n",
      " [[0 3 1 7 2 4 6 5]\n",
      " [6 4 5 7 2 1 3 0]\n",
      " [5 2 6 7 4 3 1 0]\n",
      " [0 3 6 7 2 1 4 5]\n",
      " [6 4 5 7 2 1 3 0]\n",
      " [0 3 6 7 2 1 4 5]]\n",
      "Hasil crossover :\n",
      " [[0 3 1 7 2 4 6 5]\n",
      " [6 4 2 7 5 1 3 0]\n",
      " [5 2 6 1 3 4 7 0]\n",
      " [0 3 7 6 2 1 4 5]\n",
      " [6 4 3 1 2 7 5 0]\n",
      " [6 3 0 7 2 1 4 5]]\n",
      "Hasil mutasi :\n",
      " [[0 7 1 3 2 4 6 5]\n",
      " [6 4 2 7 3 1 5 0]\n",
      " [5 0 6 1 3 4 7 2]\n",
      " [6 3 7 0 2 1 4 5]\n",
      " [6 2 3 1 4 7 5 0]\n",
      " [6 3 0 7 2 1 4 5]]\n"
     ]
    },
    {
     "data": {
      "text/plain": [
       "array([[0, 7, 1, 3, 2, 4, 6, 5],\n",
       "       [6, 4, 2, 7, 3, 1, 5, 0],\n",
       "       [5, 0, 6, 1, 3, 4, 7, 2],\n",
       "       [6, 3, 7, 0, 2, 1, 4, 5],\n",
       "       [6, 2, 3, 1, 4, 7, 5, 0],\n",
       "       [6, 3, 0, 7, 2, 1, 4, 5]])"
      ]
     },
     "execution_count": 13,
     "metadata": {},
     "output_type": "execute_result"
    }
   ],
   "source": [
    "def geneticAlgoritm(numOfPopulation,numOfCity,generation):\n",
    "    (population,location) = generatePopulation(numOfPopulation,numOfCity)\n",
    "    print(\"Inisialisasi Populasi :\\n\",populasi)\n",
    "    for i in range(generation):\n",
    "        print(f\"Generasi-{i}\")\n",
    "        nilaiFitness = calculateFitness(population,location)\n",
    "        newInd = selection(nilaiFitness)\n",
    "        print(\"Indeks hasil populasi seleksi :\",newInd)\n",
    "        population = newPopulation(newInd,population)\n",
    "        print(\"Individu Hasil Seleksi :\\n\",population)\n",
    "        population = crossover(population)\n",
    "        print(\"Hasil crossover :\\n\",population)\n",
    "        population = mutation(population)\n",
    "        print(\"Hasil mutasi :\\n\",population)\n",
    "    return population\n",
    "    \n",
    "geneticAlgoritm(6,8,2)"
   ]
  },
  {
   "cell_type": "code",
   "execution_count": 60,
   "id": "c6b6fc8b",
   "metadata": {
    "scrolled": false
   },
   "outputs": [
    {
     "name": "stdout",
     "output_type": "stream",
     "text": [
      "Inisialisasi Populasi :\n",
      " [[4 1 5 2 0 7 6 3]\n",
      " [6 1 3 7 0 2 4 5]\n",
      " [4 6 5 3 7 0 2 1]\n",
      " [5 0 6 4 7 3 2 1]\n",
      " [7 2 4 3 5 1 6 0]\n",
      " [7 0 4 2 1 3 5 6]]\n",
      "Generasi-0\n",
      "Indeks hasil populasi seleksi : [2 3 3 3 0 3]\n",
      "Individu Hasil Seleksi :\n",
      " [[4 6 5 3 7 0 2 1]\n",
      " [5 0 6 4 7 3 2 1]\n",
      " [5 0 6 4 7 3 2 1]\n",
      " [5 0 6 4 7 3 2 1]\n",
      " [4 1 5 2 0 7 6 3]\n",
      " [5 0 6 4 7 3 2 1]]\n",
      "Hasil crossover :\n",
      " [[4 6 5 0 7 3 2 1]\n",
      " [3 7 4 6 0 5 2 1]\n",
      " [5 0 6 4 3 7 2 1]\n",
      " [5 0 6 2 3 7 4 1]\n",
      " [4 1 0 2 5 7 6 3]\n",
      " [5 0 6 4 7 3 2 1]]\n",
      "Hasil mutasi :\n",
      " [[4 6 5 2 7 3 0 1]\n",
      " [7 3 4 6 0 5 2 1]\n",
      " [4 0 6 5 3 7 2 1]\n",
      " [5 0 6 2 7 3 4 1]\n",
      " [4 1 6 2 5 7 0 3]\n",
      " [5 0 4 6 7 3 2 1]]\n",
      "Generasi-1\n",
      "Indeks hasil populasi seleksi : [1 3 0 5 1 3]\n",
      "Individu Hasil Seleksi :\n",
      " [[7 3 4 6 0 5 2 1]\n",
      " [5 0 6 2 7 3 4 1]\n",
      " [4 6 5 2 7 3 0 1]\n",
      " [5 0 4 6 7 3 2 1]\n",
      " [7 3 4 6 0 5 2 1]\n",
      " [5 0 6 2 7 3 4 1]]\n",
      "Hasil crossover :\n",
      " [[7 0 6 4 3 5 2 1]\n",
      " [5 0 6 1 4 3 7 2]\n",
      " [3 7 2 5 6 4 0 1]\n",
      " [2 3 7 6 4 0 5 1]\n",
      " [7 3 6 4 0 5 2 1]\n",
      " [5 0 1 4 3 7 2 6]]\n",
      "Hasil mutasi :\n",
      " [[7 0 6 4 5 3 2 1]\n",
      " [3 0 6 1 4 5 7 2]\n",
      " [3 7 2 1 6 4 0 5]\n",
      " [3 2 7 6 4 0 5 1]\n",
      " [2 3 6 4 0 5 7 1]\n",
      " [5 1 0 4 3 7 2 6]]\n",
      "\n",
      "Populasi terbaik:\n",
      "[5 1 0 4 3 7 2 6]\n",
      "Fitness: 0.019535008852706662\n",
      "-------- [array([ 4, 18]), array([19, 17]), array([ 9, 13]), array([ 3, 15]), array([12,  8]), array([15,  5]), array([16,  9]), array([17, 11])]\n"
     ]
    },
    {
     "data": {
      "text/plain": [
       "array([[7, 0, 6, 4, 5, 3, 2, 1],\n",
       "       [3, 0, 6, 1, 4, 5, 7, 2],\n",
       "       [3, 7, 2, 1, 6, 4, 0, 5],\n",
       "       [3, 2, 7, 6, 4, 0, 5, 1],\n",
       "       [2, 3, 6, 4, 0, 5, 7, 1],\n",
       "       [5, 1, 0, 4, 3, 7, 2, 6]])"
      ]
     },
     "execution_count": 60,
     "metadata": {},
     "output_type": "execute_result"
    },
    {
     "data": {
      "image/png": "[encoded data removed]",
      "text/plain": [
       "<Figure size 640x480 with 1 Axes>"
      ]
     },
     "metadata": {},
     "output_type": "display_data"
    }
   ],
   "source": [
    "import matplotlib.pyplot as plt\n",
    "def geneticAlgoritm(numOfPopulation, numOfCity, generation):\n",
    "    (population, location) = generatePopulation(numOfPopulation, numOfCity)\n",
    "    print(\"Inisialisasi Populasi :\\n\", population)\n",
    "    \n",
    "    bestPopulation = 0\n",
    "    bestFitness = 0\n",
    "    \n",
    "    for i in range(generation):\n",
    "        print(f\"Generasi-{i}\")\n",
    "        nilaiFitness = calculateFitness(population, location)\n",
    "        newInd = selection(nilaiFitness)\n",
    "        print(\"Indeks hasil populasi seleksi :\", newInd)\n",
    "        population = newPopulation(newInd, population)\n",
    "        print(\"Individu Hasil Seleksi :\\n\", population)\n",
    "        population = crossover(population)\n",
    "        print(\"Hasil crossover :\\n\", population)\n",
    "        population = mutation(population)\n",
    "        print(\"Hasil mutasi :\\n\", population)\n",
    "        \n",
    "        \n",
    "        bestIndex = nilaiFitness.argmax()\n",
    "        if nilaiFitness[bestIndex] > bestFitness:\n",
    "            bestPopulation = population[bestIndex]\n",
    "            bestFitness = nilaiFitness[bestIndex]\n",
    "        \n",
    "        disp = []\n",
    "        for i in range(len(bestPopulation)) :\n",
    "            disp.append(location[bestPopulation[i]])\n",
    "       \n",
    "        \n",
    "        \n",
    "    \n",
    "    print(\"\\nPopulasi terbaik:\")\n",
    "    print(bestPopulation)\n",
    "    print(\"Fitness:\", bestFitness)\n",
    "    print(\"--------\",disp)\n",
    "    x_points = []\n",
    "    y_points = []\n",
    "    for i in disp:\n",
    "        x_points.append(i[0])\n",
    "        y_points.append(i[1])\n",
    "    plt.plot(x_points,y_points)\n",
    "    return population\n",
    "\n",
    "geneticAlgoritm(6, 8, 2)"
   ]
  },
  {
   "cell_type": "code",
   "execution_count": 12,
   "id": "54345764",
   "metadata": {},
   "outputs": [
    {
     "name": "stdout",
     "output_type": "stream",
     "text": [
      "Inisialisasi Populasi :\n",
      " [[4 1 5 3 0 2 7 6]\n",
      " [3 4 5 1 7 6 0 2]\n",
      " [1 0 6 7 3 2 4 5]\n",
      " [0 3 2 6 7 1 5 4]\n",
      " [6 1 4 0 7 5 2 3]\n",
      " [0 2 5 7 3 6 4 1]]\n",
      "Generasi-0\n",
      "Populasi lama = \n",
      " [[4 1 5 3 0 2 7 6]\n",
      " [3 4 5 1 7 6 0 2]\n",
      " [1 0 6 7 3 2 4 5]\n",
      " [0 3 2 6 7 1 5 4]\n",
      " [6 1 4 0 7 5 2 3]\n",
      " [0 2 5 7 3 6 4 1]]\n",
      "Fitness lama = \n",
      " [0.01573062 0.01791659 0.0162477  0.01937028 0.01481139 0.01522285]\n",
      "Populasi baru = \n",
      " [[1 3 6 2 7 0 5 4]\n",
      " [0 4 5 1 3 6 2 7]\n",
      " [6 1 5 3 0 4 7 2]\n",
      " [0 5 7 6 2 1 3 4]\n",
      " [1 3 5 6 0 2 4 7]\n",
      " [2 1 5 3 0 4 6 7]]\n",
      "Fitness baru = \n",
      " [0.01851435 0.0214934  0.01740378 0.01845293 0.01647822 0.01688675]\n",
      "Elitist = \n",
      " [[0 3 2 6 7 1 5 4]\n",
      " [3 4 5 1 7 6 0 2]\n",
      " [1 0 6 7 3 2 4 5]\n",
      " [0 4 5 1 3 6 2 7]\n",
      " [1 3 6 2 7 0 5 4]\n",
      " [0 5 7 6 2 1 3 4]]\n",
      "Generasi-1\n",
      "Populasi lama = \n",
      " [[0 3 2 6 7 1 5 4]\n",
      " [3 4 5 1 7 6 0 2]\n",
      " [1 0 6 7 3 2 4 5]\n",
      " [0 4 5 1 3 6 2 7]\n",
      " [1 3 6 2 7 0 5 4]\n",
      " [0 5 7 6 2 1 3 4]]\n",
      "Fitness lama = \n",
      " [0.01937028 0.01791659 0.0162477  0.0214934  0.01851435 0.01845293]\n",
      "Populasi baru = \n",
      " [[0 4 6 1 7 2 5 3]\n",
      " [4 7 2 6 3 1 5 0]\n",
      " [3 5 4 1 0 6 2 7]\n",
      " [3 4 5 1 6 7 0 2]\n",
      " [7 5 6 0 2 1 3 4]\n",
      " [1 4 3 0 5 6 2 7]]\n",
      "Fitness baru = \n",
      " [0.01673815 0.01958561 0.0185201  0.01476615 0.02010368 0.01524125]\n",
      "Elitist = \n",
      " [[0 4 5 1 3 6 2 7]\n",
      " [0 3 2 6 7 1 5 4]\n",
      " [1 3 6 2 7 0 5 4]\n",
      " [7 5 6 0 2 1 3 4]\n",
      " [4 7 2 6 3 1 5 0]\n",
      " [3 5 4 1 0 6 2 7]]\n"
     ]
    }
   ],
   "source": [
    "def GAwithElitist(numOfPopulation,numOfCity,generation):\n",
    "    (population,location) = generatePopulation(numOfPopulation,numOfCity)\n",
    "\n",
    "    print(\"Inisialisasi Populasi :\\n\",population)\n",
    "    for i in range(generation):\n",
    "        print(f\"Generasi-{i}\")\n",
    "        # algoritma genetik\n",
    "        oldPopulation = population.copy()\n",
    "        nilaiFitness = calculateFitness(population,location)\n",
    "        maxFitness = np.max(nilaiFitness)\n",
    "        newInd = selection(nilaiFitness)\n",
    "        population = newPopulation(newInd,population)\n",
    "        population = crossover(population)\n",
    "        population = mutation(population)\n",
    "        \n",
    "        #elitist strategy\n",
    "        nilaiFitnessOld = calculateFitness(oldPopulation,location)\n",
    "        indOld = np.argsort(-nilaiFitnessOld)\n",
    "        nilaiFitnessNew = calculateFitness(population,location)\n",
    "        indNew = np.argsort(-nilaiFitnessNew)\n",
    "        \n",
    "        print(\"Populasi lama = \\n\",oldPopulation)\n",
    "        print(\"Fitness lama = \\n\",nilaiFitnessOld)\n",
    "        print(\"Populasi baru = \\n\",population)\n",
    "        print(\"Fitness baru = \\n\",nilaiFitnessNew)\n",
    "        \n",
    "        populationOld = newPopulation(indOld[0:numOfPopulation//2],oldPopulation)\n",
    "        populationNew = newPopulation(indNew[0:numOfPopulation//2],population)\n",
    "        \n",
    "        population[0:numOfPopulation//2] = populationOld[0:numOfPopulation//2]\n",
    "        population[numOfPopulation//2:numOfPopulation] = populationNew[0:numOfPopulation//2]\n",
    "        \n",
    "        print(\"Elitist = \\n\",population)\n",
    "        \n",
    "GAwithElitist(6,8,2)"
   ]
  }
 ],
 "metadata": {
  "kernelspec": {
   "display_name": "Python 3 (ipykernel)",
   "language": "python",
   "name": "python3"
  },
  "language_info": {
   "codemirror_mode": {
    "name": "ipython",
    "version": 3
   },
   "file_extension": ".py",
   "mimetype": "text/x-python",
   "name": "python",
   "nbconvert_exporter": "python",
   "pygments_lexer": "ipython3",
   "version": "3.11.4"
  }
 },
 "nbformat": 4,
 "nbformat_minor": 5
}
