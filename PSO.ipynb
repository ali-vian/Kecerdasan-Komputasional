{
 "cells": [
  {
   "cell_type": "markdown",
   "id": "80734831",
   "metadata": {},
   "source": [
    "# Penjelasan Kode\n",
    "\n",
    "### Inisialisai Partikel\n",
    "membangkitkan 6 partikel ---> 1 partikel 5 kota\n",
    "```python \n",
    "partikels = [[0,1,2,3,4],\n",
    "     [4,1,2,0,3],\n",
    "     [4,3,2,0,1],\n",
    "     [1,4,2,3,0],\n",
    "     [3,2,1,4,0],\n",
    "     [2,1,3,4,0]]\n",
    "#koordinat setiap kota\n",
    "koor  = [[12,6],[2,8],[10,14],[4,2],[6,2]]\n",
    "#velocity\n",
    "v = [[[0,1]],[[1,4]],[[2,4]],[[0,2]],[[3,1]],[[2,3]]]\n",
    "#menggunakan triple nested list karena setiap partikel memiliki hpp dan setiap hpp terdapat beberapa pp\n",
    "```\n",
    "Untuk menghitung pbest dan gbest kita menggunakan fungsi fitness yang menggunakan rumus jarak dari dua titik koordinat kemudian di jumlahkan\n",
    "$$ d=\\sqrt{(x_2-x_1)^2+(y_2-y_1)^2}\\ $$\n",
    "```python\n",
    "def jarak_euclidean(p1, p2):\n",
    "    return math.sqrt((p1[0] - p2[0])**2 + (p1[1] - p2[1])**2)\n",
    "\n",
    "def hitung_fitness(rute, koordinat):\n",
    "    total_jarak = 0\n",
    "    for i in range(len(rute) - 1):\n",
    "        total_jarak += jarak_euclidean(koordinat[rute[i]], koordinat[rute[i + 1]])\n",
    "    return total_jarak\n",
    "```\n",
    "###### Hitung pi(pbest) jika t=0 (pertama) maka sama dengan x1 \n",
    "![image.png](attachment:image.png)\n",
    "```python\n",
    "pi = partikel.copy()\n",
    "\n",
    "for k in range(len(partikel)) :\n",
    "    print(f\"f(p({k})) = \",hitung_fitness(partikel[k],koor))\n",
    "    if hitung_fitness(partikel[k],koor) < hitung_fitness(pi[k],koor):\n",
    "        pi[k]=partikel[k]\n",
    "        hasil.append(hitung_fitness(pi[k],koor))\n",
    "    else:\n",
    "        hasil.append(hitung_fitness(pi[k],koor))\n",
    "print(hasil) \n",
    "```\n",
    "###### Mencari gbest dari pi\n",
    "![image-2.png](attachment:image-2.png)\n",
    "```python\n",
    "gbest = pi[hasil.index(min(hasil))]\n",
    "```\n",
    "\n",
    "###### Update velocity\n",
    "$$ v_i(t+1) = c_0v_i(t)+c_1r_1(t)[p_i(t)-x_i(t)]+c_2r_2(t)[p_g(t)-x_1(t)] $$\n",
    "\n",
    "karena tidak tahu cara perkalian c (konstanta) dan r (elemen stochastic) maka\n",
    "\n",
    "$$ v_i(t+1) = v_i(t)+[p_i(t)-x_i(t)]+[p_g(t)-x_i(t)] $$\n",
    "\n",
    "```python\n",
    "\n",
    "def penguranganPartikel(a,b):\n",
    "    x = [] #untuk menampung hasil hpp\n",
    "    c = a.copy() #menyimpan perubahan\n",
    "    for i in a :\n",
    "        idx = [c.index(i),b.index(i)] #pp\n",
    "        if idx[0] != idx[1] and  (idx not in x and idx[::-1] not in x) : #cek apakah sudah perlu pindah dan belum ada di hpp\n",
    "            x.append([c.index(i),b.index(i)]) # jika belum masukkan\n",
    "            c[idx[0]],c[idx[1]]=c[idx[1]],c[idx[0]] # dan swap posisi\n",
    "    return x\n",
    "\n",
    "for j in range(len(partikel)):\n",
    "    temp = penguranganPartikel(gbest,partikel[j])\n",
    "    temp2 = penguranganPartikel(pi[j],partikel[k])\n",
    "    v[j] = v[j]+ temp+temp2  #penjumlahan velocity\n",
    "    print(f\"v{j+1}({x+1}) = \",v[j])\n",
    "```\n",
    "\n",
    "###### Update Partikel\n",
    "$$ x_i(t+1)=x_i(t)+v_i(t+1) $$\n",
    "```python\n",
    "def pertambahanHpp(a,hpp):\n",
    "    x1 = a.copy()\n",
    "    for i in hpp:\n",
    "        x1[i[0]],x1[i[1]] = x1[i[1]],x1[i[0]] #posisi dirubah sesuai dengan hpp\n",
    "    return x1\n",
    "\n",
    "for i in range(len(partikel)):\n",
    "    partikel[i] = pertambahanHpp(partikel[i],v[i])\n",
    "    print(f\"x{i+1}({x+1}) = \",partikel[i])\n",
    "```\n",
    "\n",
    "###### Ulangi proses dari pbest lagi secara terus menerus hingga iterasi ke n "
   ]
  },
  {
   "cell_type": "markdown",
   "id": "63412e90",
   "metadata": {},
   "source": [
    "# Code"
   ]
  },
  {
   "cell_type": "code",
   "execution_count": 1,
   "id": "7b301c1d",
   "metadata": {},
   "outputs": [
    {
     "name": "stdout",
     "output_type": "stream",
     "text": [
      "[[0, 2], [1, 0], [1, 3], [1, 4]]\n"
     ]
    }
   ],
   "source": [
    "# Pengurangan Partikel\n",
    "\n",
    "a = [\"A\",\"C\",\"D\",\"B\"]\n",
    "b = [\"B\",\"A\",\"D\",\"C\"]\n",
    "\n",
    "def penguranganPartikel(a,b):\n",
    "    x = [] #untuk menampung hasil hpp\n",
    "    c = a.copy() #menyimpan perubahan\n",
    "    for i in a :\n",
    "        idx = [c.index(i),b.index(i)] #pp\n",
    "        if idx[0] != idx[1] and  (idx not in x and idx[::-1] not in x) : #cek apakah sudah perlu pindah dan belum ada di hpp\n",
    "            x.append([c.index(i),b.index(i)]) # jika belum masukkan\n",
    "            c[idx[0]],c[idx[1]]=c[idx[1]],c[idx[0]] # dan swap posisi\n",
    "    return x\n",
    "# print(a)\n",
    "# penguranganPartikel(a,b)\n",
    "\n"
   ]
  },
  {
   "cell_type": "code",
   "execution_count": 3,
   "id": "b84412bf",
   "metadata": {},
   "outputs": [
    {
     "data": {
      "text/plain": [
       "['D', 'C', 'A', 'B']"
      ]
     },
     "execution_count": 3,
     "metadata": {},
     "output_type": "execute_result"
    }
   ],
   "source": [
    "# pertambahan patikel dengan PP\n",
    "def pertambahanPP(a,pp):\n",
    "    X1 = a.copy()\n",
    "\n",
    "    X1[pp[0]],X1[pp[1]] = X1[pp[1]],X1[pp[0]]\n",
    "    return X1\n",
    "\n",
    "pp = [0,2]\n",
    "pertambahanPP(a,pp)"
   ]
  },
  {
   "cell_type": "code",
   "execution_count": 4,
   "id": "73273d4b",
   "metadata": {},
   "outputs": [
    {
     "data": {
      "text/plain": [
       "['B', 'A', 'C', 'D']"
      ]
     },
     "execution_count": 4,
     "metadata": {},
     "output_type": "execute_result"
    }
   ],
   "source": [
    "# Pertambahan Partikel dengan HPP\n",
    "hpp = [[0, 2], [1, 2],[0,3]]\n",
    "def pertambahanHpp(a,hpp):\n",
    "    x1 = a.copy()\n",
    "    for i in hpp:\n",
    "        x1[i[0]],x1[i[1]] = x1[i[1]],x1[i[0]]\n",
    "    return x1\n",
    "\n",
    "pertambahanHpp(a,hpp)"
   ]
  },
  {
   "cell_type": "code",
   "execution_count": 5,
   "id": "92c2d31f",
   "metadata": {},
   "outputs": [
    {
     "name": "stdout",
     "output_type": "stream",
     "text": [
      "[[0, 2], [1, 2], [0, 3], [3, 1], [2, 0]]\n"
     ]
    }
   ],
   "source": [
    "# Pertambahan hpp dengan hpp\n",
    "\n",
    "hpp1 = [[0, 2], [1, 2],[0,3]]\n",
    "hpp2 = [[3, 1], [2, 0]]\n",
    "print(hpp1+hpp2)"
   ]
  },
  {
   "cell_type": "code",
   "execution_count": 6,
   "id": "ddebacb4",
   "metadata": {},
   "outputs": [],
   "source": [
    "import matplotlib.pyplot as plt\n",
    "%matplotlib inline"
   ]
  },
  {
   "cell_type": "code",
   "execution_count": 20,
   "id": "bfb02ac3",
   "metadata": {
    "scrolled": false
   },
   "outputs": [
    {
     "name": "stdout",
     "output_type": "stream",
     "text": [
      "x1 = n [0, 1, 2, 3, 4]\n",
      "x2 = n [4, 1, 2, 0, 3]\n",
      "x3 = n [4, 3, 2, 0, 1]\n",
      "x4 = n [1, 4, 2, 3, 0]\n",
      "x5 = n [3, 2, 1, 4, 0]\n",
      "x6 = n [2, 1, 3, 4, 0]\n",
      "\n",
      "Fitness :\n",
      "f(p(0)) =  42.82554944311228\n",
      "f(p(1)) =  36.40158571216246\n",
      "f(p(2)) =  41.0717606943476\n",
      "f(p(3)) =  52.418931993784966\n",
      "f(p(4)) =  46.782884876853856\n",
      "f(p(5)) =  33.78186912250006\n",
      "[42.82554944311228, 36.40158571216246, 41.0717606943476, 52.418931993784966, 46.782884876853856, 33.78186912250006]\n",
      "gbest 33.78186912250006 => [2, 1, 3, 4, 0]\n",
      "\n",
      "Update Velocity :\n",
      "v1(1) =  [[0, 1], [0, 2], [0, 3], [0, 4], [0, 4], [2, 0], [3, 2]]\n",
      "v2(1) =  [[1, 4], [0, 2], [0, 4], [3, 0], [0, 3], [2, 0], [2, 4]]\n",
      "v3(1) =  [[2, 4], [0, 2], [1, 4], [0, 1], [3, 0], [0, 3], [1, 2], [1, 0], [1, 4]]\n",
      "v4(1) =  [[0, 2], [0, 2], [1, 0], [1, 3], [0, 1], [0, 3], [2, 0]]\n",
      "v5(1) =  [[3, 1], [0, 1], [0, 2], [0, 2], [1, 0]]\n",
      "v6(1) =  [[2, 3]]\n",
      "\n",
      "Update Partikel :\n",
      "x1(1) =  [1, 0, 2, 3, 4]\n",
      "x2(1) =  [4, 3, 2, 0, 1]\n",
      "x3(1) =  [4, 3, 1, 0, 2]\n",
      "x4(1) =  [2, 4, 1, 3, 0]\n",
      "x5(1) =  [3, 4, 1, 2, 0]\n",
      "x6(1) =  [2, 1, 4, 3, 0]\n",
      "\n",
      "Fitness :\n",
      "f(p(0)) =  41.0717606943476\n",
      "f(p(1)) =  41.0717606943476\n",
      "f(p(2)) =  39.41791623943117\n",
      "f(p(3)) =  43.37525167317274\n",
      "f(p(4)) =  36.40158571216246\n",
      "f(p(5)) =  36.40158571216246\n",
      "[41.0717606943476, 36.40158571216246, 39.41791623943117, 43.37525167317274, 36.40158571216246, 33.78186912250006]\n",
      "gbest 33.78186912250006 => [2, 1, 3, 4, 0]\n",
      "\n",
      "Update Velocity :\n",
      "v1(2) =  [[0, 1], [0, 2], [0, 3], [0, 4], [0, 4], [2, 0], [3, 2], [0, 2], [1, 0], [1, 3], [1, 4], [0, 1], [0, 4], [2, 0]]\n",
      "v2(2) =  [[1, 4], [0, 2], [0, 4], [3, 0], [0, 3], [2, 0], [2, 4], [0, 2], [1, 4], [0, 1], [3, 0], [0, 2], [3, 4]]\n",
      "v3(2) =  [[2, 4], [0, 2], [1, 4], [0, 1], [3, 0], [0, 3], [1, 2], [1, 0], [1, 4], [0, 4], [1, 2], [3, 0], [0, 2], [1, 3], [0, 1], [0, 4]]\n",
      "v4(2) =  [[0, 2], [0, 2], [1, 0], [1, 3], [0, 1], [0, 3], [2, 0], [1, 2], [1, 3], [1, 2]]\n",
      "v5(2) =  [[3, 1], [0, 1], [0, 2], [0, 2], [1, 0], [0, 3], [1, 2], [1, 0], [0, 3], [1, 2]]\n",
      "v6(2) =  [[2, 3], [2, 3], [2, 3]]\n",
      "\n",
      "Update Partikel :\n",
      "x1(2) =  [0, 1, 3, 2, 4]\n",
      "x2(2) =  [4, 2, 0, 1, 3]\n",
      "x3(2) =  [4, 3, 0, 2, 1]\n",
      "x4(2) =  [1, 4, 3, 2, 0]\n",
      "x5(2) =  [3, 2, 4, 1, 0]\n",
      "x6(2) =  [2, 1, 3, 4, 0]\n",
      "\n",
      "Fitness :\n",
      "f(p(0)) =  49.79921540412256\n",
      "f(p(1)) =  39.417916239431165\n",
      "f(p(2)) =  36.40158571216246\n",
      "f(p(3)) =  41.0717606943476\n",
      "f(p(4)) =  52.418931993784966\n",
      "f(p(5)) =  33.78186912250006\n",
      "[41.0717606943476, 36.40158571216246, 36.40158571216246, 41.0717606943476, 36.40158571216246, 33.78186912250006]\n",
      "gbest 33.78186912250006 => [2, 1, 3, 4, 0]\n",
      "\n",
      "Update Velocity :\n",
      "v1(3) =  [[0, 1], [0, 2], [0, 3], [0, 4], [0, 4], [2, 0], [3, 2], [0, 2], [1, 0], [1, 3], [1, 4], [0, 1], [0, 4], [2, 0], [0, 3], [0, 4], [0, 1], [0, 4], [2, 0], [3, 2]]\n",
      "v2(3) =  [[1, 4], [0, 2], [0, 4], [3, 0], [0, 3], [2, 0], [2, 4], [0, 2], [1, 4], [0, 1], [3, 0], [0, 2], [3, 4], [0, 1], [0, 3], [2, 4], [0, 3], [2, 0], [2, 4]]\n",
      "v3(3) =  [[2, 4], [0, 2], [1, 4], [0, 1], [3, 0], [0, 3], [1, 2], [1, 0], [1, 4], [0, 4], [1, 2], [3, 0], [0, 2], [1, 3], [0, 1], [0, 4], [0, 3], [1, 4], [2, 1], [0, 3], [1, 2], [1, 4]]\n",
      "v4(3) =  [[0, 2], [0, 2], [1, 0], [1, 3], [0, 1], [0, 3], [2, 0], [1, 2], [1, 3], [1, 2], [0, 3], [1, 0], [0, 1], [0, 3]]\n",
      "v5(3) =  [[3, 1], [0, 1], [0, 2], [0, 2], [1, 0], [0, 3], [1, 2], [1, 0], [0, 3], [1, 2], [0, 1], [0, 3], [2, 0], [0, 2], [1, 3], [0, 1]]\n",
      "v6(3) =  [[2, 3], [2, 3], [2, 3]]\n",
      "\n",
      "Update Partikel :\n",
      "x1(3) =  [2, 4, 1, 3, 0]\n",
      "x2(3) =  [2, 4, 1, 3, 0]\n",
      "x3(3) =  [4, 3, 2, 1, 0]\n",
      "x4(3) =  [3, 4, 2, 1, 0]\n",
      "x5(3) =  [1, 4, 2, 3, 0]\n",
      "x6(3) =  [2, 1, 4, 3, 0]\n"
     ]
    },
    {
     "data": {
      "image/png": "[encoded data removed]",
      "text/plain": [
       "<Figure size 640x480 with 1 Axes>"
      ]
     },
     "metadata": {},
     "output_type": "display_data"
    }
   ],
   "source": [
    "partikel = [[0,1,2,3,4],\n",
    "     [4,1,2,0,3],\n",
    "     [4,3,2,0,1],\n",
    "     [1,4,2,3,0],\n",
    "     [3,2,1,4,0],\n",
    "     [2,1,3,4,0]]\n",
    "koor  = [[12,6],[2,8],[10,14],[4,2],[6,2]]\n",
    "v = [[[0,1]],[[1,4]],[[2,4]],[[0,2]],[[3,1]],[[2,3]]]\n",
    "pi = partikel.copy()\n",
    "\n",
    "import math\n",
    "\n",
    "for i,x in enumerate(partikel) :\n",
    "    print(f\"x{i+1} = n\",x)\n",
    "\n",
    "def jarak_euclidean(p1, p2):\n",
    "    return math.sqrt((p1[0] - p2[0])**2 + (p1[1] - p2[1])**2)\n",
    "\n",
    "def hitung_fitness(rute, koordinat):\n",
    "    total_jarak = 0\n",
    "    for i in range(len(rute) - 1):\n",
    "        total_jarak += jarak_euclidean(koordinat[rute[i]], koordinat[rute[i + 1]])\n",
    "    total_jarak += jarak_euclidean(koordinat[rute[-1]], koordinat[rute[0]])\n",
    "    return total_jarak\n",
    "\n",
    "for x in range(3):\n",
    "    hasil = []\n",
    "    print(\"\\nFitness :\")\n",
    "    for k in range(len(partikel)) :\n",
    "        print(f\"f(p({k})) = \",hitung_fitness(partikel[k],koor))\n",
    "        if hitung_fitness(partikel[k],koor) < hitung_fitness(pi[k],koor):\n",
    "            pi[k]=partikel[k]\n",
    "            hasil.append(hitung_fitness(pi[k],koor))\n",
    "        else:\n",
    "            hasil.append(hitung_fitness(pi[k],koor))\n",
    "    print(hasil) \n",
    "    gbest = pi[hasil.index(min(hasil))]\n",
    "    print(\"gbest\",min(hasil),\"=>\",gbest)\n",
    "    print(\"\\nUpdate Velocity :\")\n",
    "    for j in range(len(partikel)):\n",
    "        temp = penguranganPartikel(gbest,partikel[j])\n",
    "        temp2 = penguranganPartikel(pi[j],partikel[k])\n",
    "        v[j] = v[j]+ temp+temp2\n",
    "        print(f\"v{j+1}({x+1}) = \",v[j])\n",
    "\n",
    "    print(\"\\nUpdate Partikel :\")\n",
    "    for i in range(len(partikel)):\n",
    "\n",
    "        partikel[i] = pertambahanHpp(partikel[i],v[i])\n",
    "        print(f\"x{i+1}({x+1}) = \",partikel[i])\n",
    "\n",
    "x_plt = []\n",
    "y_plt = []\n",
    "for t in gbest:\n",
    "    x_plt.append(koor[t][0])\n",
    "    y_plt.append(koor[t][1])\n",
    "plt.plot(x_plt,y_plt,marker=\"o\")\n",
    "plt.title(\"Generasi Terbaik\")\n",
    "plt.show()\n",
    "    \n",
    "\n",
    "    \n"
   ]
  },
  {
   "cell_type": "code",
   "execution_count": 25,
   "id": "b1d9d638",
   "metadata": {
    "scrolled": false
   },
   "outputs": [
    {
     "name": "stdout",
     "output_type": "stream",
     "text": [
      "0\n"
     ]
    }
   ],
   "source": [
    "hpp = [[0,2],[0,1],[4,1],[3,4]]\n",
    "4,3,2,1,0\n",
    "2,3,4,1,0\n",
    "3,2,4,1,0\n",
    "3,0,4,1,2\n",
    "3,0,4,2,1\n",
    "\n",
    "\n"
   ]
  },
  {
   "cell_type": "code",
   "execution_count": 2,
   "id": "9f66bdeb",
   "metadata": {},
   "outputs": [
    {
     "name": "stdout",
     "output_type": "stream",
     "text": [
      "[[0, 2], [1, 0], [1, 3], [1, 4]]\n"
     ]
    }
   ],
   "source": [
    "a = [4,3,2,1,0]\n",
    "b = [3,0,4,2,1]\n",
    "hasil = penguranganPartikel(a,b)\n",
    "print(hasil)"
   ]
  },
  {
   "cell_type": "code",
   "execution_count": null,
   "id": "67f3b7e6",
   "metadata": {},
   "outputs": [],
   "source": [
    "hpp = [[0,4],[1,3]]\n",
    "3,2,4,1,0\n",
    "0,2,4,1,3\n",
    "0,1,4,2,3\n",
    "\n"
   ]
  },
  {
   "cell_type": "code",
   "execution_count": 3,
   "id": "22581799",
   "metadata": {},
   "outputs": [
    {
     "name": "stdout",
     "output_type": "stream",
     "text": [
      "[[0, 4], [1, 3]]\n"
     ]
    }
   ],
   "source": [
    "a= [3,2,4,1,0]\n",
    "b= [0,1,4,2,3]\n",
    "hasil = penguranganPartikel(a,b)\n",
    "print(hasil)"
   ]
  }
 ],
 "metadata": {
  "kernelspec": {
   "display_name": "Python 3 (ipykernel)",
   "language": "python",
   "name": "python3"
  },
  "language_info": {
   "codemirror_mode": {
    "name": "ipython",
    "version": 3
   },
   "file_extension": ".py",
   "mimetype": "text/x-python",
   "name": "python",
   "nbconvert_exporter": "python",
   "pygments_lexer": "ipython3",
   "version": "3.11.4"
  }
 },
 "nbformat": 4,
 "nbformat_minor": 5
}
