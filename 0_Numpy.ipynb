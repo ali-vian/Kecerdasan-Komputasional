{
 "cells": [
  {
   "cell_type": "code",
   "execution_count": 20,
   "id": "3ee922f1",
   "metadata": {},
   "outputs": [
    {
     "name": "stdout",
     "output_type": "stream",
     "text": [
      "[1.2 2.3 3.5 4.7]\n",
      "[1 3 5 7 9]\n",
      "[ 1.  4.  7. 10.]\n",
      "[[1 2 3]\n",
      " [4 5 6]]\n",
      "[[0. 0. 0. 0.]\n",
      " [0. 0. 0. 0.]\n",
      " [0. 0. 0. 0.]\n",
      " [0. 0. 0. 0.]]\n",
      "[[1. 1. 1. 1.]\n",
      " [1. 1. 1. 1.]\n",
      " [1. 1. 1. 1.]\n",
      " [1. 1. 1. 1.]]\n",
      "[[1. 0. 0. 0. 0.]\n",
      " [0. 1. 0. 0. 0.]\n",
      " [0. 0. 1. 0. 0.]\n",
      " [0. 0. 0. 1. 0.]\n",
      " [0. 0. 0. 0. 1.]]\n"
     ]
    }
   ],
   "source": [
    "import numpy as np\n",
    "# Membuat Vektor\n",
    "a = np.array([1,2,3,4,5])\n",
    "b = np.array([1.2,2.3,3.5,4.7])\n",
    "print(b)\n",
    "\n",
    "# Membuat vektor dari range\n",
    "c = np.arange(1,10,2)\n",
    "print(c)\n",
    "\n",
    "# Membuat Linspace / Membagi sama rata\n",
    "d = np.linspace(1,10,4)\n",
    "print(d)\n",
    "\n",
    "# Membuat Matrix\n",
    "e = np.array([[1,2,3],[4,5,6]])\n",
    "print(e)\n",
    "\n",
    "# matrix nilai nol\n",
    "nol = np.zeros((4,4))\n",
    "print(nol)\n",
    "\n",
    "# matrix nilai satu\n",
    "one = np.ones((4,4))\n",
    "print(one)\n",
    "\n",
    "# Matrix identitas\n",
    "mat = np.eye(5)\n",
    "mat1 = np.identity(5)\n",
    "print(mat1)"
   ]
  },
  {
   "cell_type": "code",
   "execution_count": 26,
   "id": "0cf43246",
   "metadata": {},
   "outputs": [
    {
     "name": "stdout",
     "output_type": "stream",
     "text": [
      "[   1    4   27  256 3125]\n",
      "[[ 2  4  6]\n",
      " [ 8 10 12]]\n"
     ]
    }
   ],
   "source": [
    "# ELEMENTWISE OPERATION\n",
    "a = np.array([1,2,3,4,5])\n",
    "b = np.array([1,2,3,4,5])\n",
    "hasil = a*b\n",
    "hasil = a+b\n",
    "hasil = a**b\n",
    "print(hasil)\n",
    "\n",
    "c = np.array([[1,2,3],[4,5,6]])\n",
    "d = np.array([[1,2,3],[4,5,6]])\n",
    "print(c+d)"
   ]
  },
  {
   "cell_type": "code",
   "execution_count": 36,
   "id": "2e1de00d",
   "metadata": {},
   "outputs": [
    {
     "name": "stdout",
     "output_type": "stream",
     "text": [
      "[[3. 5.]\n",
      " [3. 5.]]\n",
      "[[3. 5.]\n",
      " [3. 5.]]\n"
     ]
    }
   ],
   "source": [
    "# Perkalian Matrix\n",
    "c = np.array([(1,2),(2,3)])\n",
    "d = np.ones([2,2])\n",
    "print(np.dot(d,c))\n",
    "print(d.dot(c))"
   ]
  },
  {
   "cell_type": "code",
   "execution_count": 53,
   "id": "16b9baba",
   "metadata": {},
   "outputs": [
    {
     "name": "stdout",
     "output_type": "stream",
     "text": [
      "[[1 2 3]\n",
      " [1 2 3]]\n",
      "[[1 1]\n",
      " [2 2]\n",
      " [3 3]]\n",
      "(2, 3)\n",
      "[1 1 2 2 3 3]\n",
      "[1 1 2 2 3 3]\n",
      "[[1 2]\n",
      " [3 1]\n",
      " [2 3]]\n",
      "(2, 3)\n",
      "[[1 2]\n",
      " [3 1]\n",
      " [2 3]]\n",
      "(3, 2)\n"
     ]
    }
   ],
   "source": [
    "# Transpose matrix\n",
    "matrix = np.array(([1,2,3],[1,2,3]))\n",
    "print(matrix)\n",
    "a = matrix.transpose() #tidak merubah\n",
    "a = np.transpose(matrix)\n",
    "a = matrix.T\n",
    "print(a)\n",
    "print(matrix.shape)\n",
    "\n",
    "# flatten / vector baris\n",
    "print(a.ravel())\n",
    "print(np.ravel(a))\n",
    "\n",
    "# reshape matrix\n",
    "print(matrix.reshape(3,2)) #tidak merubah\n",
    "print(matrix.shape)\n",
    "\n",
    "# reshape matrix\n",
    "matrix.resize(3,2) #merubah\n",
    "print(matrix)\n",
    "print(matrix.shape)"
   ]
  },
  {
   "cell_type": "code",
   "execution_count": 57,
   "id": "ebf2ee55",
   "metadata": {},
   "outputs": [
    {
     "name": "stdout",
     "output_type": "stream",
     "text": [
      "[[1. 1. 1. 0. 0. 0.]\n",
      " [1. 1. 1. 0. 0. 0.]]\n",
      "[[1. 1. 1.]\n",
      " [1. 1. 1.]\n",
      " [0. 0. 0.]\n",
      " [0. 0. 0.]]\n"
     ]
    }
   ],
   "source": [
    "# Stacking\n",
    "a = np.ones([2,3])\n",
    "b = np.zeros([2,3])\n",
    "print(np.hstack((a,b)))\n",
    "print(np.vstack((a,b)))"
   ]
  },
  {
   "cell_type": "code",
   "execution_count": 70,
   "id": "8839ac37",
   "metadata": {},
   "outputs": [
    {
     "name": "stdout",
     "output_type": "stream",
     "text": [
      "[[0. 1. 2. 3.]\n",
      " [1. 2. 3. 4.]\n",
      " [2. 3. 4. 5.]\n",
      " [3. 4. 5. 6.]]\n",
      "[0 2 4 6 8]\n",
      "[(b'a',  10) (b'b',   7) (b'c', 138)]\n"
     ]
    }
   ],
   "source": [
    "a = np.array([(1,2,3),(1,2,3)],dtype=float)\n",
    "\n",
    "# fromfunction\n",
    "def kuadrat(a,b):\n",
    "    return b**2\n",
    "def penjumlahan(a,b):\n",
    "    return a+b\n",
    "b = np.fromfunction(kuadrat,(1,10),dtype = int)\n",
    "c = np.fromfunction(penjumlahan,(4,4),dtype = float)\n",
    "print(c)\n",
    "\n",
    "# iterable array\n",
    "iter = [i*2 for i in range(5)]\n",
    "d = np.fromiter(iter,dtype=int)\n",
    "print(d)\n",
    "\n",
    "# multitype array\n",
    "dtipe = [('nama','S255'),('tinggi',int)]\n",
    "data = [('a',10),('b',7),('c',138)]\n",
    "\n",
    "e = np.array(data,dtype=dtipe)\n",
    "print(e)"
   ]
  }
 ],
 "metadata": {
  "kernelspec": {
   "display_name": "Python 3 (ipykernel)",
   "language": "python",
   "name": "python3"
  },
  "language_info": {
   "codemirror_mode": {
    "name": "ipython",
    "version": 3
   },
   "file_extension": ".py",
   "mimetype": "text/x-python",
   "name": "python",
   "nbconvert_exporter": "python",
   "pygments_lexer": "ipython3",
   "version": "3.11.4"
  }
 },
 "nbformat": 4,
 "nbformat_minor": 5
}
